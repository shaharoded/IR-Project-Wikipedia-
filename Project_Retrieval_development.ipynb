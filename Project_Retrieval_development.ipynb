{
  "cells": [
    {
      "cell_type": "markdown",
      "metadata": {
        "id": "yvG3FI-g8BAl"
      },
      "source": [
        "# Backend (Demo)"
      ]
    },
    {
      "cell_type": "code",
      "execution_count": 1,
      "metadata": {
        "colab": {
          "base_uri": "https://localhost:8080/"
        },
        "id": "byNgReCYsmA9",
        "outputId": "e94085cf-b6c7-4840-db03-8f52a5800656"
      },
      "outputs": [
        {
          "output_type": "stream",
          "name": "stderr",
          "text": [
            "[nltk_data] Downloading package wordnet to /root/nltk_data...\n",
            "[nltk_data] Downloading package stopwords to /root/nltk_data...\n",
            "[nltk_data]   Unzipping corpora/stopwords.zip.\n",
            "[nltk_data] Downloading package punkt to /root/nltk_data...\n",
            "[nltk_data]   Unzipping tokenizers/punkt.zip.\n"
          ]
        }
      ],
      "source": [
        "import re\n",
        "import string\n",
        "import math\n",
        "from math import log\n",
        "from dateutil import parser\n",
        "from threading import Thread\n",
        "from collections import Counter\n",
        "\n",
        "import nltk\n",
        "from nltk.tokenize import word_tokenize\n",
        "from nltk.stem import WordNetLemmatizer\n",
        "from nltk.corpus import stopwords\n",
        "from nltk.corpus import wordnet as wn\n",
        "nltk.download('wordnet')\n",
        "nltk.download('stopwords')\n",
        "nltk.download('punkt')\n",
        "\n",
        "from time import time\n",
        "from timeit import timeit\n",
        "import pandas as pd\n",
        "import numpy as np\n",
        "from concurrent.futures import ThreadPoolExecutor, as_completed\n",
        "\n",
        "lemmatizer = WordNetLemmatizer()"
      ]
    },
    {
      "cell_type": "markdown",
      "metadata": {
        "id": "ehCLi3bDNIRo"
      },
      "source": [
        "### Text Preprocess"
      ]
    },
    {
      "cell_type": "code",
      "execution_count": 84,
      "metadata": {
        "id": "AQ-dcB9xKLQd"
      },
      "outputs": [],
      "source": [
        "english_stopwords = frozenset(stopwords.words('english'))\n",
        "corpus_stopwords = [\n",
        "    'category', 'references', 'also', 'links', 'extenal', 'see',\"links\",\n",
        "                    \"may\", \"first\",\"history\", \"people\", \"one\", \"two\",\n",
        "                    \"part\", \"thumb\", \"including\", \"second\", \"following\",\n",
        "                    \"many\", \"however\", \"would\", \"became\", '.', ',', '?', '!', ':', ';', '/', '\\\\', '-', '\"', \"'\", \"(\", \")\",\n",
        "    \"[\", \"]\", \"{\", \"}\", \"|\", \"*\", \"+\", \"@\", \"^\", \"&\", \"%\", \"#\", \"''\",'``','...', '',' ', None\n",
        "]\n",
        "corpus_stopwords = set(corpus_stopwords + list(string.punctuation))\n",
        "\n",
        "ALL_STOPWORDS = english_stopwords.union(corpus_stopwords)\n",
        "lemmatizer = WordNetLemmatizer()\n",
        "\n",
        "def replace_contractions(token):\n",
        "    \"\"\"\n",
        "    Replace common contractions like \"n't\" with their full words.\n",
        "\n",
        "    Parameters:\n",
        "        tokens (list of str): List of tokens.\n",
        "\n",
        "    Returns:\n",
        "        list of str: List of tokens with contractions replaced.\n",
        "    \"\"\"\n",
        "    contractions_mapping = {\n",
        "        \"n't\": \"not\",\n",
        "        \"'nt\": \"not\",\n",
        "        \"'ll\": \"will\",\n",
        "        \"'ve\": \"have\",\n",
        "        \"'re\": \"are\",\n",
        "        \"'d\": \"would\",\n",
        "        \"'m\": \"am\",\n",
        "        \".\": \"\",\n",
        "        \"'s\": \"is\"\n",
        "    }\n",
        "\n",
        "    for key in contractions_mapping.keys():\n",
        "        if key in token:\n",
        "            i = token.index(key)\n",
        "            if key == \".\":\n",
        "                return [token[:i], token[i+1:]]\n",
        "            return [token[:i], contractions_mapping[key]]\n",
        "    return [token]\n",
        "\n",
        "def ParseDateFromToken(token):\n",
        "    def is_likely_date(token):\n",
        "        # Check for delimiters typically found in numeric shaped dates\n",
        "        if re.search(r'(\\d{1,4}[- /.]\\d{1,2}[- /.]\\d{1,4})', token):\n",
        "            return True\n",
        "        return False\n",
        "\n",
        "    if not is_likely_date(token):\n",
        "        return None\n",
        "\n",
        "    try:\n",
        "        parsed_date = parser.parse(token, ignoretz=True)\n",
        "\n",
        "        # Validate year range to prevent OverflowError\n",
        "        if parsed_date.year < 1 or parsed_date.year > 9999:\n",
        "            return None\n",
        "\n",
        "        # Further validation to ignore times without explicit dates\n",
        "        if parsed_date.hour != 0 or parsed_date.minute != 0 or parsed_date.second != 0:\n",
        "            # This means the token was more like a time than a date\n",
        "            return None\n",
        "\n",
        "        year = parsed_date.year\n",
        "        full_month_name = parsed_date.strftime(\"%B\")\n",
        "        return str(year), full_month_name\n",
        "    except (ValueError, OverflowError, TypeError):\n",
        "        return None\n",
        "\n",
        "def PreProcessText(text):\n",
        "    '''\n",
        "    Parse input text. Titles - all lowered, body - keeps capitalization under conditions.\n",
        "    Out is a final list of lemmatized tokens.\n",
        "    '''\n",
        "    in_tokens = word_tokenize(text)\n",
        "\n",
        "    tok_tmp = []\n",
        "    for token in in_tokens:\n",
        "      tmp = replace_contractions(token)\n",
        "      tok_tmp.extend(tmp)\n",
        "\n",
        "    tokens = [token.lower().strip(string.punctuation) for token in tok_tmp if token not in ALL_STOPWORDS]\n",
        "    tok_tmp = []\n",
        "    for token in tokens:\n",
        "        date_data = ParseDateFromToken(token)  # list of 2 or None\n",
        "        if date_data is not None:\n",
        "            tok_tmp.extend(date_data)\n",
        "\n",
        "    tokens.extend(tok_tmp)\n",
        "    return tokens\n",
        "\n",
        "def Extend_Query(tokens):\n",
        "  '''\n",
        "  Function extends query (specifically entity words) with synonims.\n",
        "  Input are the initial tokens from the split action.\n",
        "  '''\n",
        "  def get_primary_synonyms(word):\n",
        "    synonyms = set()\n",
        "    synsets = wn.synsets(word)\n",
        "    if synsets:\n",
        "        primary_synset = synsets[0]\n",
        "        synonyms.update(lemma.name() for lemma in primary_synset.lemmas())\n",
        "    synonyms = list(synonyms)\n",
        "\n",
        "    # Split to singular words:\n",
        "    final_synonyms = []\n",
        "    for term in synonyms:\n",
        "      tmp = term.split('_')\n",
        "      final_synonyms.extend(tmp)\n",
        "    return final_synonyms\n",
        "\n",
        "  tokens_final = []\n",
        "  for token in tokens:\n",
        "    ex = get_primary_synonyms(token)\n",
        "    if len(ex) > 0:\n",
        "      tokens_final.extend(ex)\n",
        "  return set([token.lower() for token in tokens_final if token not in ALL_STOPWORDS])\n",
        "\n",
        "def possible_containing_entity(query):\n",
        "    '''\n",
        "    Based on the existence of mid-sentence capitalization or number\n",
        "    '''\n",
        "    query = query[1:]\n",
        "    # Regular expression pattern to match capitalized words or words containing numbers not at the beginning of the query\n",
        "    entity_pattern = r'\\b[A-Z0-9][a-z0-9]*\\b'\n",
        "    # Find all matches of the pattern in the query\n",
        "    matches = re.findall(entity_pattern, query)\n",
        "    # Return True if there are any matches, False otherwise\n",
        "    return bool(matches)\n",
        "\n",
        "def EntitiesKeywords(query):\n",
        "    \"\"\"\n",
        "    Assuming there might be an entity in this query, try to get it.\n",
        "    Will be used to calculate similarity score only for tokens with capital letters or numbers (additional similarity score)\n",
        "    and to expand the query with important terms.\n",
        "    \"\"\"\n",
        "    # Split the query into tokens\n",
        "    tokens = word_tokenize(query)\n",
        "    # lower first char and determine if first word needs to be included\n",
        "    first = tokens[0][0].lower()\n",
        "    # Extract tokens with capital letters or numbers\n",
        "    entity_tokens = [token for token in tokens[1:] if any(char.isupper() or char.isdigit() for char in token)]\n",
        "    if any(char.isupper() or char.isdigit() for char in first):\n",
        "      entity_tokens.append(tokens[0])\n",
        "    return ' '.join(entity_tokens)\n"
      ]
    },
    {
      "cell_type": "code",
      "execution_count": 3,
      "metadata": {
        "id": "9rQhfSHzaS5a"
      },
      "outputs": [],
      "source": [
        "def PreprocessQuery(query, expand = True, synonims = True, expansion_param = 2):\n",
        "  '''\n",
        "  Query preprocess is similar to body's - keeps mid query capitalization in an attempt to catch entities.\n",
        "  In addition, adds lowered version of the capitalized word so that will be looked for too\n",
        "  (in the title, which cannot keep the capitalization).\n",
        "  Synonims are looked for only for entities\n",
        "  '''\n",
        "  extension = []\n",
        "  # Tokenize the text\n",
        "  if expand:\n",
        "    original_tok = PreProcessText(query)\n",
        "    if possible_containing_entity(query) or len(original_tok) == 1:\n",
        "      entities = EntitiesKeywords(query)\n",
        "      query = query + ' ' + (entities+' ') * (expansion_param - 1)\n",
        "      if synonims:\n",
        "        # If query has 1 word, treat as entity\n",
        "        if len(original_tok) == 1:\n",
        "          extension = Extend_Query(original_tok)\n",
        "        else:\n",
        "          # Expand only entities\n",
        "          extension = Extend_Query(entities.split())\n",
        "  tokens = PreProcessText(query)\n",
        "  tokens.extend(extension)\n",
        "  # For query, lemmatization only happens after expantion\n",
        "  tokens = [lemmatizer.lemmatize(token) for token in tokens]\n",
        "  return tokens"
      ]
    },
    {
      "cell_type": "markdown",
      "metadata": {
        "id": "BKaEUHmsI2Lv"
      },
      "source": [
        "### Retrieval Functions"
      ]
    },
    {
      "cell_type": "code",
      "execution_count": 4,
      "metadata": {
        "id": "Arm5Ybdkqvyn"
      },
      "outputs": [],
      "source": [
        "'''\n",
        "================================================================================\n",
        "For Space and calculation efficiency, pass retrieval methods only necessary data\n",
        "================================================================================\n",
        "'''\n",
        "\n",
        "def _get_postings(term, method, inverted, BUCKET_NAME, PageRank, PageViews):\n",
        "    '''\n",
        "    This function is a worker function desined to retrive and design a data structure from posting for 1 term.\n",
        "    Will be activated through ThreadPool in order to minimize IO time.\n",
        "    '''\n",
        "    docs = inverted.read_a_posting_list('', term, BUCKET_NAME)\n",
        "    index, idf = inverted.term_data[term]\n",
        "    d = []\n",
        "\n",
        "    for doc in docs:\n",
        "        if doc[0] not in inverted.additional_info:\n",
        "            continue\n",
        "        pageviews = log(PageViews.get(doc[0], 0) +1 )  # limit values growth\n",
        "        pagerank = log(PageRank.get(doc[0], 0) + 1)  # limit values growth\n",
        "        info = inverted.additional_info[doc[0]]\n",
        "\n",
        "        if method == 'Cosine':\n",
        "            title = info[0]\n",
        "            data = (doc[0], title, pagerank, pageviews)\n",
        "        elif method == 'BM25':\n",
        "            title, doc_size = info[0], info[1]\n",
        "            data = (doc[0], title, doc[1], doc_size, pagerank, pageviews)\n",
        "\n",
        "        d.append(data)\n",
        "\n",
        "    if method == 'Cosine':\n",
        "        return (term, index, idf), d\n",
        "    elif method == 'BM25':\n",
        "        return (term, idf), d\n",
        "\n",
        "def RetrieveFromPosting(query_tokens, inverted, BASE_DIR, BUCKET_NAME, PageRank, PageViews, method='BM25'):\n",
        "    '''\n",
        "    ThreadPool wrapper designed to get the postings for the entire query (query_tokens).\n",
        "    method parameter exists because for memory efficiency, different methods require different structure.\n",
        "    '''\n",
        "    fetched_docs = {}\n",
        "    query_tokens = list(set([token for token in query_tokens if token in inverted.df]))  # Ensure uniqueness and filter irrelevant tokens\n",
        "\n",
        "    with ThreadPoolExecutor() as executor:\n",
        "        futures = [executor.submit(_get_postings, term, method, inverted, BUCKET_NAME, PageRank, PageViews) for term in query_tokens]\n",
        "        for future in futures:\n",
        "            key, value = future.result()\n",
        "            fetched_docs[key] = value\n",
        "\n",
        "    return fetched_docs"
      ]
    },
    {
      "cell_type": "markdown",
      "source": [
        "### Similarity Functions"
      ],
      "metadata": {
        "id": "go1_R7CVBVxJ"
      }
    },
    {
      "cell_type": "code",
      "execution_count": 5,
      "metadata": {
        "id": "-n6OplYg7IN1"
      },
      "outputs": [],
      "source": [
        "def CosineSimilarity(fetched_docs, doc_vectors, query_tokens ,threshold=0.1):\n",
        "  '''\n",
        "  In classic CosineSimilarity we'll take a corpus size vector with entries for term in query and DOT PRODUCT it with corpus size vector for document\n",
        "  with entries for terms and appearences in the doc. In order to be computationally efective we created a sparse vector for both query (a vector of [idf1, idf2,...] for term in\n",
        "  parsed query), and for doc with [tf-idf1, tf-idf2,...] for document by term index.\n",
        "  Input fetched docs data is shaped like {(term, index, idf): [(doc_id, title, pagerank, pageviews)]}, while the doc vector is being called from the inverted index.\n",
        "  query_tokens are passed to allow highligting of important words (duplicates) in the similarity calculation.\n",
        "  This function allows filtration of low similarity documents to ease of later calculations.\n",
        "  '''\n",
        "  # Assume query_terms is a list of terms in the processed query\n",
        "  query_len = len(query_tokens)\n",
        "  query_tf = {token: count / query_len for token, count in Counter(query_tokens).items()}\n",
        "  query_vector = {key[1]: key[2]*query_tf[key[0]] for key in fetched_docs.keys()}  # Build query Vector {index: tf*idf}\n",
        "\n",
        "  def cosine_similarity(query_vec, doc_vec):\n",
        "      # Convert sparse vectors to NumPy arrays for efficient computation\n",
        "      indices = list(set(query_vec.keys()) | set(doc_vec.keys()))\n",
        "      q_vec = np.array([query_vec.get(index, 0) for index in indices])\n",
        "      d_vec = np.array([doc_vec.get(index, 0) for index in indices])\n",
        "\n",
        "      dot_product = np.dot(q_vec, d_vec)\n",
        "      magnitude = np.linalg.norm(q_vec) * np.linalg.norm(d_vec)\n",
        "\n",
        "      return 0 if magnitude == 0 else dot_product / magnitude\n",
        "\n",
        "  # For each document, calculate its vector and then its cosine similarity with the query vector\n",
        "  doc_data = {}\n",
        "  for term_info, docs in fetched_docs.items():\n",
        "    for doc_detail in docs:\n",
        "        doc_id, title, pagerank, pageviews = doc_detail\n",
        "        doc_vec = doc_vectors.get(doc_id, {})\n",
        "        score = cosine_similarity(query_vector, doc_vec)\n",
        "        if score >= threshold:\n",
        "          doc_data[doc_id] = [title, cosine_similarity(query_vector, doc_vec), pagerank, pageviews]\n",
        "\n",
        "  return doc_data"
      ]
    },
    {
      "cell_type": "code",
      "execution_count": 6,
      "metadata": {
        "id": "_19LWF2AJNxw"
      },
      "outputs": [],
      "source": [
        "def CosineSimilarity_Parallel(fetched_docs, doc_vectors, query_tokens, threshold=0.1):\n",
        "    '''\n",
        "    In classic CosineSimilarity we'll take a corpus size vector with entries for term in query and DOT PRODUCT it with corpus size vector for document\n",
        "    with entries for terms and appearences in the doc. In order to be computationally efective we created a sparse vector for both query (a vector of [idf1, idf2,...] for term in\n",
        "    parsed query), and for doc with [tf-idf1, tf-idf2,...] for document by term index.\n",
        "    Input fetched docs data is shaped like {(term, index, idf): [(doc_id, title, pagerank, pageviews)]}, while the doc vector is being called from the inverted index.\n",
        "    query_tokens are passed to allow highligting of important words (duplicates) in the similarity calculation.\n",
        "    This function allows filtration of low similarity documents to ease of later calculations.\n",
        "    '''\n",
        "    def cosine_similarity(query_vec, doc_vec):\n",
        "        # Calculation remains the same\n",
        "        indices = list(set(query_vec.keys()) | set(doc_vec.keys()))\n",
        "        q_vec = np.array([query_vec.get(index, 0) for index in indices])\n",
        "        d_vec = np.array([doc_vec.get(index, 0) for index in indices])\n",
        "        dot_product = np.dot(q_vec, d_vec)\n",
        "        magnitude = np.linalg.norm(q_vec) * np.linalg.norm(d_vec)\n",
        "        return 0 if magnitude == 0 else dot_product / magnitude\n",
        "\n",
        "    def calculate_similarity_for_doc(doc_detail, query_vector, doc_vectors, threshold):\n",
        "        # Adjusted to take doc_detail directly\n",
        "        doc_id, title, pagerank, pageviews = doc_detail\n",
        "        doc_vec = doc_vectors.get(doc_id, {})\n",
        "        score = cosine_similarity(query_vector, doc_vec)\n",
        "        if score >= threshold:\n",
        "            return doc_id, [title, score, pagerank, pageviews]\n",
        "        return None\n",
        "    query_len = len(query_tokens)\n",
        "    query_tf = {token: count / query_len for token, count in Counter(query_tokens).items()}\n",
        "    query_vector = {key[1]: key[2]*query_tf[key[0]] for key in fetched_docs.keys()}\n",
        "\n",
        "    doc_data = {}\n",
        "    with ThreadPoolExecutor() as executor:\n",
        "        futures = []\n",
        "        for term_info, docs in fetched_docs.items():\n",
        "            for doc_detail in docs:\n",
        "                future = executor.submit(calculate_similarity_for_doc, doc_detail, query_vector, doc_vectors, threshold)\n",
        "                futures.append(future)\n",
        "\n",
        "        for future in as_completed(futures):\n",
        "            result = future.result()\n",
        "            if result:\n",
        "                doc_id, data = result\n",
        "                doc_data[doc_id] = data\n",
        "\n",
        "    return doc_data"
      ]
    },
    {
      "cell_type": "code",
      "execution_count": 7,
      "metadata": {
        "id": "7CmKrFcvYvtD"
      },
      "outputs": [],
      "source": [
        "def BM25_Similarity(fetched_docs, AVG_doc_length, query_tokens, k1=1.5, b=0.75, threshold=0.1):\n",
        "    \"\"\"\n",
        "    Calculates the BM25 similarity scores for a collection of documents based on the terms they contain.\n",
        "\n",
        "    Args:\n",
        "    fetched_docs (dict): A dictionary where each key is a tuple containing term information (term, df, idf, term_total)\n",
        "                         and each value is a list of tuples containing document information\n",
        "                         (doc_id, title, tf, doc_length, norm_tf, tf-idf, pagerank).\n",
        "                         Example structure:\n",
        "                         {(term, idf): [(doc_id, title, tf, doc_length, pagerank, pageview), ...], ...}\n",
        "\n",
        "    AVG_doc_length (float): The average document length across the corpus.\n",
        "\n",
        "    k1 (float): The BM25 k1 parameter, controlling the document term frequency scaling. Typically in [1.2, 2.0].\n",
        "\n",
        "    b (float): The BM25 b parameter, controlling the scaling by document length. Typically set to 0.75.\n",
        "\n",
        "    Returns:\n",
        "    list: A sorted list of tuples, where each tuple contains (doc_id, (title, score, pagerank, pageview)), with 'score'\n",
        "          being the BM25 score. The list is sorted by score in descending order.\n",
        "    \"\"\"\n",
        "    def calculate_bm25(tf, doc_length, AVG_doc_length, idf, k1=1.5, b=0.75):\n",
        "        numerator = tf * (k1 + 1)\n",
        "        denominator = tf + k1 * (1 - b + b * (doc_length / AVG_doc_length))\n",
        "        return idf * (numerator / denominator)\n",
        "\n",
        "    # Initialize a dictionary to hold document scores\n",
        "    doc_scores = {}\n",
        "    query_len = len(query_tokens)\n",
        "    query_tf = {token: count / query_len for token, count in Counter(query_tokens).items()}  # For keyword importance\n",
        "\n",
        "    for term_info, docs in fetched_docs.items():\n",
        "        term, idf = term_info\n",
        "        for doc in docs:\n",
        "            doc_id, title, tf, doc_length, pagerank, pageviews = doc\n",
        "            score = calculate_bm25(tf, doc_length, AVG_doc_length, idf, k1, b) * query_tf[term]  # Incorporate term significance\n",
        "\n",
        "            # Initialize or update the doc score\n",
        "            if doc_id not in doc_scores:\n",
        "                doc_scores[doc_id] = [title, score, pagerank, pageviews]\n",
        "            else:\n",
        "                # Update score by adding the new score to the existing one\n",
        "                doc_scores[doc_id][1] += score\n",
        "\n",
        "    # Filter documents by threshold after scores are fully computed\n",
        "    doc_scores = {doc_id: data for doc_id, data in doc_scores.items() if data[1] >= threshold}\n",
        "\n",
        "    return doc_scores"
      ]
    },
    {
      "cell_type": "code",
      "execution_count": 8,
      "metadata": {
        "id": "e_5ZjrhVOiBi"
      },
      "outputs": [],
      "source": [
        "def BM25_Similarity_Parallel(fetched_docs, AVG_doc_length, query_tokens, k1=1.5, b=0.75, threshold=0.1):\n",
        "    \"\"\"\n",
        "    Calculates the BM25 similarity scores for a collection of documents based on the terms they contain.\n",
        "    The function is using parrallel calculation in order to perform the process as efficient as possible.\n",
        "    Args:\n",
        "    fetched_docs (dict): A dictionary where each key is a tuple containing term information (term, df, idf, term_total)\n",
        "                         and each value is a list of tuples containing document information\n",
        "                         (doc_id, title, tf, doc_length, norm_tf, tf-idf, pagerank).\n",
        "                         Example structure:\n",
        "                         {(term, idf): [(doc_id, title, tf, doc_length, pagerank, pageview), ...], ...}\n",
        "\n",
        "    AVG_doc_length (float): The average document length across the corpus.\n",
        "\n",
        "    k1 (float): The BM25 k1 parameter, controlling the document term frequency scaling. Typically in [1.2, 2.0].\n",
        "\n",
        "    b (float): The BM25 b parameter, controlling the scaling by document length. Typically set to 0.75.\n",
        "\n",
        "    Returns:\n",
        "    list: A sorted list of tuples, where each tuple contains (doc_id, (title, score, pagerank, pageview)), with 'score'\n",
        "          being the BM25 score. The list is sorted by score in descending order.\n",
        "    \"\"\"\n",
        "    def _calculate_bm25(tf, doc_length, AVG_doc_length, idf, k1=1.5, b=0.75):\n",
        "        numerator = tf * (k1 + 1)\n",
        "        denominator = tf + k1 * (1 - b + b * (doc_length / AVG_doc_length))\n",
        "        return idf * (numerator / denominator)\n",
        "\n",
        "    def calculate_doc_score(args):\n",
        "      term_info, docs, AVG_doc_length, k1, b, query_tf = args\n",
        "      term, idf = term_info\n",
        "      doc_scores_partial = {}\n",
        "      for doc in docs:\n",
        "          doc_id, title, tf, doc_length, pagerank, pageviews = doc\n",
        "          score = _calculate_bm25(tf, doc_length, AVG_doc_length, idf, k1, b) * query_tf.get(term, 0)\n",
        "\n",
        "          if doc_id not in doc_scores_partial:\n",
        "              doc_scores_partial[doc_id] = [title, score, pagerank, pageviews]\n",
        "          else:\n",
        "              doc_scores_partial[doc_id][1] += score\n",
        "      return doc_scores_partial\n",
        "\n",
        "    query_len = len(query_tokens)\n",
        "    query_tf = {token: count / query_len for token, count in Counter(query_tokens).items()}\n",
        "    doc_scores = {}\n",
        "\n",
        "    tasks = [(term_info, docs, AVG_doc_length, k1, b, query_tf) for term_info, docs in fetched_docs.items()]\n",
        "\n",
        "    with ThreadPoolExecutor() as executor:\n",
        "        future_to_doc = {executor.submit(calculate_doc_score, task): task for task in tasks}\n",
        "        for future in as_completed(future_to_doc):\n",
        "            doc_scores_partial = future.result()\n",
        "            for doc_id, data in doc_scores_partial.items():\n",
        "                if doc_id in doc_scores:\n",
        "                    doc_scores[doc_id][1] += data[1]  # Update score\n",
        "                else:\n",
        "                    doc_scores[doc_id] = data\n",
        "\n",
        "    # Filter documents by threshold after scores are fully computed\n",
        "    doc_scores = {doc_id: data for doc_id, data in doc_scores.items() if data[1] >= threshold}\n",
        "\n",
        "    return doc_scores"
      ]
    },
    {
      "cell_type": "markdown",
      "source": [
        "### Search Function"
      ],
      "metadata": {
        "id": "nTF6csmmBR69"
      }
    },
    {
      "cell_type": "code",
      "execution_count": 75,
      "metadata": {
        "id": "-d0OQYreRF1j"
      },
      "outputs": [],
      "source": [
        "def merge_thread_outputs(dict1, dict2):\n",
        "    \"\"\"\n",
        "    Merges outputs from two dictionaries into a single dictionary where each key (doc_id) maps to\n",
        "    a list that includes all similarity scores along with title, pagerank, and pageview.\n",
        "\n",
        "    Parameters:\n",
        "    - dict1: Dictionary from the first thread with doc_id as keys and\n",
        "             [title, similarity_score, pagerank, pageview] as values.\n",
        "    - dict2: Dictionary from the second thread with doc_id as keys and\n",
        "             [title, similarity_score, pagerank, pageview] as values.\n",
        "\n",
        "    Returns:\n",
        "    - merged_dict: A dictionary with merged results. For each doc_id, the value is a list:\n",
        "      [title, similarity_score_1, similarity_score_2, pagerank, pageview].\n",
        "    \"\"\"\n",
        "\n",
        "    merged_dict = {}\n",
        "\n",
        "    # Merge dict1 and dict2 based on dict 2 (possibly more keys)\n",
        "    for doc_id, values in dict2.items():\n",
        "        title, similarity_s_2, pagerank, pageview = values\n",
        "        similarity_s_1 = dict1.get(doc_id, [None, 0, None, None])[1]  # Get similarity_s_1 if exists in dict2, else 0\n",
        "\n",
        "        merged_dict[doc_id] = [title, similarity_s_1, similarity_s_2, pagerank, pageview]\n",
        "\n",
        "    # Handle doc_ids unique to dict1\n",
        "    for doc_id, values in dict1.items():\n",
        "        if doc_id not in merged_dict:\n",
        "            title, similarity_s_1, pagerank, pageview = values\n",
        "            similarity_s_1 = 0\n",
        "            merged_dict[doc_id] = [title, similarity_s_1, similarity_s_2, pagerank, pageview]\n",
        "\n",
        "    return merged_dict\n",
        "\n",
        "def threaded_search(query_tokens, inverted_index, BASE_DIR, similarity_method, output_dict, key_suffix):\n",
        "    \"\"\"\n",
        "    Thread worker function to search a single index.\n",
        "    \"\"\"\n",
        "    if similarity_method == 'BM25':\n",
        "        fetched_docs = RetrieveFromPosting(query_tokens, inverted_index, BASE_DIR, BUCKET_NAME, PageRank, PageViews, method=similarity_method)\n",
        "        fetched_docs = BM25_Similarity(fetched_docs, inverted_index.AVG_doc_length, query_tokens, 1.5, 0.75, 0.73)\n",
        "    elif similarity_method == 'Cosine':\n",
        "        fetched_docs = RetrieveFromPosting(query_tokens, inverted_index, BASE_DIR, BUCKET_NAME, PageRank, PageViews, method=similarity_method)\n",
        "        fetched_docs = CosineSimilarity(fetched_docs, inverted_index.doc_vectors, query_tokens, 0.25)\n",
        "    else:\n",
        "        raise ValueError(\"Unsupported similarity method: {}\".format(similarity_method))\n",
        "\n",
        "    output_dict[key_suffix] = fetched_docs\n",
        "\n",
        "def Search_for_Optimization(query, inverted1, inverted2):\n",
        "    \"\"\"\n",
        "    Performs a search query across two indexes using a specified similarity method. Results are merged\n",
        "    and returned as a pandas DataFrame. Utilizes a Thread per retrieval task in order to be time efficient.\n",
        "\n",
        "    Parameters:\n",
        "    - query (str): The search query.\n",
        "    - inverted1, inverted2: Inverted index objects with term data and AVG_doc_length.\n",
        "    - similarity_method (str): The similarity method to use ('BM25' or 'Cosine').\n",
        "\n",
        "    Returns:\n",
        "    - DataFrame: A pandas DataFrame with columns ['doc_id', 'title', 'Similarity_Score_Title_Index',\n",
        "                  'Similarity_Score_Body_Index', 'pagerank', 'pageviews'].\n",
        "    \"\"\"\n",
        "    query_tokens = PreprocessQuery(query, expand = True, synonims = False, expansion_param = 2)\n",
        "    results = {}\n",
        "    threads = []\n",
        "\n",
        "    # Create threads for each index + entity similarity\n",
        "    threads.append(Thread(target=threaded_search, args=(query_tokens, inverted1, BASE_DIR_T, 'Cosine', results, 'Title Search')))\n",
        "    threads.append(Thread(target=threaded_search, args=(query_tokens, inverted2, BASE_DIR_B, 'BM25', results, 'Body Search')))\n",
        "\n",
        "    # Start threads\n",
        "    for thread in threads:\n",
        "        thread.start()\n",
        "\n",
        "    # Wait for all threads to complete\n",
        "    for thread in threads:\n",
        "        thread.join()\n",
        "\n",
        "    # Assuming both indexes return documents in the same format, merge outputs\n",
        "    merged_docs = merge_thread_outputs(results['Title Search'], results['Body Search'])\n",
        "\n",
        "    # Convert to DataFrame\n",
        "    data = []\n",
        "    for doc_id, details in merged_docs.items():\n",
        "        # Assuming each similarity method returns: (title, score, pagerank, pageviews)\n",
        "        data.append((doc_id, *details))\n",
        "\n",
        "    df = pd.DataFrame(data, columns=['Doc_ID', 'Title', 'Similarity_Score_Title_Index', 'Similarity_Score_Body_Index', 'PageRank', 'PageViews'])\n",
        "    return df"
      ]
    },
    {
      "cell_type": "markdown",
      "metadata": {
        "id": "UAufOhnpHzzE"
      },
      "source": [
        "### On GCP Index"
      ]
    },
    {
      "cell_type": "code",
      "execution_count": 9,
      "metadata": {
        "id": "eWrWvy7vWmAQ"
      },
      "outputs": [],
      "source": [
        "from google.colab import auth\n",
        "from google.cloud import storage\n",
        "import pickle\n",
        "from inverted_index_gcp import *\n",
        "# Authenticate with Google Cloud\n",
        "auth.authenticate_user()\n",
        "\n",
        "# Initialize a client\n",
        "client = storage.Client()\n",
        "\n",
        "def read_pkl_from_gcs(bucket_name, file_name):\n",
        "    \"\"\"Read a .pkl file from a Google Cloud Storage bucket.\"\"\"\n",
        "    # Get the bucket\n",
        "    bucket = client.bucket(bucket_name)\n",
        "\n",
        "    # Get the blob (file) from the bucket\n",
        "    blob = bucket.blob(file_name)\n",
        "\n",
        "    # Download the file to a local temporary file\n",
        "    temp_file_path = \"/tmp/temp_file.pkl\"  # You can change the path as needed\n",
        "    blob.download_to_filename(temp_file_path)\n",
        "\n",
        "    # Load the data from the pickle file\n",
        "    with open(temp_file_path, \"rb\") as f:\n",
        "        data = pickle.load(f)\n",
        "\n",
        "    return data"
      ]
    },
    {
      "cell_type": "code",
      "execution_count": 10,
      "metadata": {
        "id": "Gq9xmW68XJwK"
      },
      "outputs": [],
      "source": [
        "# BUCKET_NAME = 'shahar_ir_project'\n",
        "# INDEX_NAME_T = 'Index_Title_Test'\n",
        "# BASE_DIR_T = 'PostingList_Title_Test'\n",
        "# INDEX_NAME_B = 'Index_Body_Test'\n",
        "# BASE_DIR_B = 'PostingList_Body_Test'\n",
        "\n",
        "# PageViews = read_pkl_from_gcs(BUCKET_NAME, f'BigDataFiles/pageviews-202108-user.pkl')\n",
        "# PageRank = dict(read_pkl_from_gcs(BUCKET_NAME, f'BigDataFiles/PageRank_dict.pkl'))\n",
        "# index_title_small = read_pkl_from_gcs(BUCKET_NAME, f'{BASE_DIR_T}/{INDEX_NAME_T}.pkl')\n",
        "# index_body_small = read_pkl_from_gcs(BUCKET_NAME, f'{BASE_DIR_B}/{INDEX_NAME_B}.pkl')"
      ]
    },
    {
      "cell_type": "code",
      "execution_count": 10,
      "metadata": {
        "id": "dZ_CQ-T9wxyh"
      },
      "outputs": [],
      "source": [
        "BUCKET_NAME = 'shahar_ir_project'\n",
        "INDEX_NAME_T = 'Index_Title_Final_Corrected'\n",
        "BASE_DIR_T = 'Index_Title_Final_Corrected'\n",
        "INDEX_NAME_B = 'Index_Body_Final_Corrected'\n",
        "BASE_DIR_B = 'Index_Body_Final_Corrected'\n",
        "PageViews = read_pkl_from_gcs(BUCKET_NAME, f'BigDataFiles/pageviews-202108-user.pkl')\n",
        "PageRank = dict(read_pkl_from_gcs(BUCKET_NAME, f'BigDataFiles/PageRank_dict.pkl'))\n",
        "index_title = read_pkl_from_gcs(BUCKET_NAME, f'{BASE_DIR_T}/{INDEX_NAME_T}.pkl')\n",
        "index_body = read_pkl_from_gcs(BUCKET_NAME, f'{BASE_DIR_B}/{INDEX_NAME_B}.pkl')\n",
        "\n",
        "'''\n",
        "Add these manually to backend file\n",
        "'''\n",
        "\n",
        "index_title.N = 6348910\n",
        "Body_additional_info = read_pkl_from_gcs(BUCKET_NAME, f'{BASE_DIR_B}/Additional_Info.pkl')\n",
        "Body_term_data = read_pkl_from_gcs(BUCKET_NAME, f'{BASE_DIR_B}/TermData.pkl')\n",
        "index_body.term_data = Body_term_data\n",
        "index_body.additional_info = Body_additional_info"
      ]
    },
    {
      "cell_type": "markdown",
      "metadata": {
        "id": "DZU-ZVP-RGVO"
      },
      "source": [
        "# Parameters Optimization\n",
        "\n",
        "In this secion, having all the scores per retrieved document, we would like to determine optimized weights for each scoring component"
      ]
    },
    {
      "cell_type": "code",
      "execution_count": 12,
      "metadata": {
        "id": "TDaSzNhgRQZv"
      },
      "outputs": [],
      "source": [
        "inverted1 = index_title\n",
        "inverted2 = index_body"
      ]
    },
    {
      "cell_type": "markdown",
      "metadata": {
        "id": "dNon1kuSjPpQ"
      },
      "source": [
        "### Create Query DF"
      ]
    },
    {
      "cell_type": "code",
      "execution_count": 13,
      "metadata": {
        "colab": {
          "base_uri": "https://localhost:8080/",
          "height": 1000
        },
        "id": "_-9E0faZjUAI",
        "outputId": "3f8df526-7237-4ac1-bcf8-b03009ca5385"
      },
      "outputs": [
        {
          "output_type": "execute_result",
          "data": {
            "text/plain": [
              "                                                 Text  Number of Documents  \\\n",
              "0                                            genetics                   46   \n",
              "1   Who is considered the \"Father of the United St...                   50   \n",
              "2                                            economic                   50   \n",
              "3                When was the United Nations founded?                   46   \n",
              "4                                        video gaming                   46   \n",
              "5                              3D printing technology                   44   \n",
              "6                        Who is the author of \"1984\"?                   44   \n",
              "7                                      bioinformatics                   19   \n",
              "8   Who is known for proposing the heliocentric mo...                   45   \n",
              "9              Describe the process of water erosion.                   48   \n",
              "10              When was the Berlin Wall constructed?                   49   \n",
              "11   What is the meaning of the term \"Habeas Corpus\"?                   49   \n",
              "12                                 telecommunications                   26   \n",
              "13                                           internet                   42   \n",
              "14  What are the characteristics of a chemical ele...                   50   \n",
              "15            Describe the structure of a plant cell.                   49   \n",
              "16                        Who painted \"Starry Night\"?                   33   \n",
              "17                                           computer                   46   \n",
              "18       What is the structure of the Earth's layers?                   44   \n",
              "19                         When did World War II end?                   50   \n",
              "20    When was the Gutenberg printing press invented?                   46   \n",
              "21                                           medicine                   45   \n",
              "22                          Describe the water cycle.                   47   \n",
              "23                            artificial intelligence                   43   \n",
              "24                                            physics                   46   \n",
              "25                                     nanotechnology                   47   \n",
              "26           When did the Black Death pandemic occur?                   47   \n",
              "27                                       neuroscience                   47   \n",
              "28                                          snowboard                   16   \n",
              "29           Who is the founder of modern psychology?                   49   \n",
              "\n",
              "    Query Length                                 Expected Documents  \n",
              "0              4  12266, 8406655, 1590357, 4250553, 339838, 7955...  \n",
              "1             16  540802, 519482, 260899, 21816397, 223202, 1512...  \n",
              "2              3  9223, 6639133, 692262, 148131, 69415, 380845, ...  \n",
              "3             17  31769, 1157540, 88805, 188955, 9300546, 31969,...  \n",
              "4              2  5363, 32401, 564204, 372478, 32629, 64483771, ...  \n",
              "5              7  1305947, 53292993, 53292889, 38673321, 1086236...  \n",
              "6              4  23454753, 11891, 19245926, 4261, 14254136, 222...  \n",
              "7              1  4214, 363695, 53970843, 24738960, 235550, 3767...  \n",
              "8              7  244588, 8837050, 2748665, 323592, 74857, 33628...  \n",
              "9              4  9696, 4372011, 59416, 11397380, 149261, 440037...  \n",
              "10            10  3722, 61917089, 33170, 29696068, 9483, 1836076...  \n",
              "11            10  14091, 8758045, 1123587, 3972844, 23693473, 98...  \n",
              "12             3  33094374, 46545, 928324, 7531293, 620113, 2745...  \n",
              "13             4  14539, 13692, 300602, 33789688, 100245, 15323,...  \n",
              "14             4  5659, 2152181, 23053, 9722260, 5180, 42209150,...  \n",
              "15             4  23977, 6312, 13932032, 6355, 32347, 4230, 3305...  \n",
              "16            10  1115370, 1878689, 32603, 62143846, 1883522, 43...  \n",
              "17            11  7878457, 18457137, 5323, 21808348, 7677, 5783,...  \n",
              "18             8  1417149, 1705831, 2939202, 1079771, 9228, 1462...  \n",
              "19            19  32927, 360422, 16555042, 34624, 215257, 390508...  \n",
              "20             9  23295, 15745, 7695885, 11012076, 47300, 255041...  \n",
              "21             4  18957, 180121, 428966, 1580383, 14194, 9311172...  \n",
              "22             3  200167, 59586681, 13435, 33306, 67695754, 2397...  \n",
              "23             2  1164, 142224, 2894560, 15893057, 52588198, 658...  \n",
              "24             4  22939, 22688097, 13758, 19594028, 24489, 5387,...  \n",
              "25             2  21488, 7064233, 38324933, 21514, 19637, 144312...  \n",
              "26            13  4501, 16392927, 20993417, 33390780, 20155274, ...  \n",
              "27             2  21245, 50326, 665536, 277956, 1305044, 5836196...  \n",
              "28             2  38957, 28262, 25855820, 13006860, 25189611, 23...  \n",
              "29             4  1573230, 34128, 90682, 3129664, 26743, 912656,...  "
            ],
            "text/html": [
              "\n",
              "  <div id=\"df-65849390-fc74-4f23-a23d-25aa512f38a8\" class=\"colab-df-container\">\n",
              "    <div>\n",
              "<style scoped>\n",
              "    .dataframe tbody tr th:only-of-type {\n",
              "        vertical-align: middle;\n",
              "    }\n",
              "\n",
              "    .dataframe tbody tr th {\n",
              "        vertical-align: top;\n",
              "    }\n",
              "\n",
              "    .dataframe thead th {\n",
              "        text-align: right;\n",
              "    }\n",
              "</style>\n",
              "<table border=\"1\" class=\"dataframe\">\n",
              "  <thead>\n",
              "    <tr style=\"text-align: right;\">\n",
              "      <th></th>\n",
              "      <th>Text</th>\n",
              "      <th>Number of Documents</th>\n",
              "      <th>Query Length</th>\n",
              "      <th>Expected Documents</th>\n",
              "    </tr>\n",
              "  </thead>\n",
              "  <tbody>\n",
              "    <tr>\n",
              "      <th>0</th>\n",
              "      <td>genetics</td>\n",
              "      <td>46</td>\n",
              "      <td>4</td>\n",
              "      <td>12266, 8406655, 1590357, 4250553, 339838, 7955...</td>\n",
              "    </tr>\n",
              "    <tr>\n",
              "      <th>1</th>\n",
              "      <td>Who is considered the \"Father of the United St...</td>\n",
              "      <td>50</td>\n",
              "      <td>16</td>\n",
              "      <td>540802, 519482, 260899, 21816397, 223202, 1512...</td>\n",
              "    </tr>\n",
              "    <tr>\n",
              "      <th>2</th>\n",
              "      <td>economic</td>\n",
              "      <td>50</td>\n",
              "      <td>3</td>\n",
              "      <td>9223, 6639133, 692262, 148131, 69415, 380845, ...</td>\n",
              "    </tr>\n",
              "    <tr>\n",
              "      <th>3</th>\n",
              "      <td>When was the United Nations founded?</td>\n",
              "      <td>46</td>\n",
              "      <td>17</td>\n",
              "      <td>31769, 1157540, 88805, 188955, 9300546, 31969,...</td>\n",
              "    </tr>\n",
              "    <tr>\n",
              "      <th>4</th>\n",
              "      <td>video gaming</td>\n",
              "      <td>46</td>\n",
              "      <td>2</td>\n",
              "      <td>5363, 32401, 564204, 372478, 32629, 64483771, ...</td>\n",
              "    </tr>\n",
              "    <tr>\n",
              "      <th>5</th>\n",
              "      <td>3D printing technology</td>\n",
              "      <td>44</td>\n",
              "      <td>7</td>\n",
              "      <td>1305947, 53292993, 53292889, 38673321, 1086236...</td>\n",
              "    </tr>\n",
              "    <tr>\n",
              "      <th>6</th>\n",
              "      <td>Who is the author of \"1984\"?</td>\n",
              "      <td>44</td>\n",
              "      <td>4</td>\n",
              "      <td>23454753, 11891, 19245926, 4261, 14254136, 222...</td>\n",
              "    </tr>\n",
              "    <tr>\n",
              "      <th>7</th>\n",
              "      <td>bioinformatics</td>\n",
              "      <td>19</td>\n",
              "      <td>1</td>\n",
              "      <td>4214, 363695, 53970843, 24738960, 235550, 3767...</td>\n",
              "    </tr>\n",
              "    <tr>\n",
              "      <th>8</th>\n",
              "      <td>Who is known for proposing the heliocentric mo...</td>\n",
              "      <td>45</td>\n",
              "      <td>7</td>\n",
              "      <td>244588, 8837050, 2748665, 323592, 74857, 33628...</td>\n",
              "    </tr>\n",
              "    <tr>\n",
              "      <th>9</th>\n",
              "      <td>Describe the process of water erosion.</td>\n",
              "      <td>48</td>\n",
              "      <td>4</td>\n",
              "      <td>9696, 4372011, 59416, 11397380, 149261, 440037...</td>\n",
              "    </tr>\n",
              "    <tr>\n",
              "      <th>10</th>\n",
              "      <td>When was the Berlin Wall constructed?</td>\n",
              "      <td>49</td>\n",
              "      <td>10</td>\n",
              "      <td>3722, 61917089, 33170, 29696068, 9483, 1836076...</td>\n",
              "    </tr>\n",
              "    <tr>\n",
              "      <th>11</th>\n",
              "      <td>What is the meaning of the term \"Habeas Corpus\"?</td>\n",
              "      <td>49</td>\n",
              "      <td>10</td>\n",
              "      <td>14091, 8758045, 1123587, 3972844, 23693473, 98...</td>\n",
              "    </tr>\n",
              "    <tr>\n",
              "      <th>12</th>\n",
              "      <td>telecommunications</td>\n",
              "      <td>26</td>\n",
              "      <td>3</td>\n",
              "      <td>33094374, 46545, 928324, 7531293, 620113, 2745...</td>\n",
              "    </tr>\n",
              "    <tr>\n",
              "      <th>13</th>\n",
              "      <td>internet</td>\n",
              "      <td>42</td>\n",
              "      <td>4</td>\n",
              "      <td>14539, 13692, 300602, 33789688, 100245, 15323,...</td>\n",
              "    </tr>\n",
              "    <tr>\n",
              "      <th>14</th>\n",
              "      <td>What are the characteristics of a chemical ele...</td>\n",
              "      <td>50</td>\n",
              "      <td>4</td>\n",
              "      <td>5659, 2152181, 23053, 9722260, 5180, 42209150,...</td>\n",
              "    </tr>\n",
              "    <tr>\n",
              "      <th>15</th>\n",
              "      <td>Describe the structure of a plant cell.</td>\n",
              "      <td>49</td>\n",
              "      <td>4</td>\n",
              "      <td>23977, 6312, 13932032, 6355, 32347, 4230, 3305...</td>\n",
              "    </tr>\n",
              "    <tr>\n",
              "      <th>16</th>\n",
              "      <td>Who painted \"Starry Night\"?</td>\n",
              "      <td>33</td>\n",
              "      <td>10</td>\n",
              "      <td>1115370, 1878689, 32603, 62143846, 1883522, 43...</td>\n",
              "    </tr>\n",
              "    <tr>\n",
              "      <th>17</th>\n",
              "      <td>computer</td>\n",
              "      <td>46</td>\n",
              "      <td>11</td>\n",
              "      <td>7878457, 18457137, 5323, 21808348, 7677, 5783,...</td>\n",
              "    </tr>\n",
              "    <tr>\n",
              "      <th>18</th>\n",
              "      <td>What is the structure of the Earth's layers?</td>\n",
              "      <td>44</td>\n",
              "      <td>8</td>\n",
              "      <td>1417149, 1705831, 2939202, 1079771, 9228, 1462...</td>\n",
              "    </tr>\n",
              "    <tr>\n",
              "      <th>19</th>\n",
              "      <td>When did World War II end?</td>\n",
              "      <td>50</td>\n",
              "      <td>19</td>\n",
              "      <td>32927, 360422, 16555042, 34624, 215257, 390508...</td>\n",
              "    </tr>\n",
              "    <tr>\n",
              "      <th>20</th>\n",
              "      <td>When was the Gutenberg printing press invented?</td>\n",
              "      <td>46</td>\n",
              "      <td>9</td>\n",
              "      <td>23295, 15745, 7695885, 11012076, 47300, 255041...</td>\n",
              "    </tr>\n",
              "    <tr>\n",
              "      <th>21</th>\n",
              "      <td>medicine</td>\n",
              "      <td>45</td>\n",
              "      <td>4</td>\n",
              "      <td>18957, 180121, 428966, 1580383, 14194, 9311172...</td>\n",
              "    </tr>\n",
              "    <tr>\n",
              "      <th>22</th>\n",
              "      <td>Describe the water cycle.</td>\n",
              "      <td>47</td>\n",
              "      <td>3</td>\n",
              "      <td>200167, 59586681, 13435, 33306, 67695754, 2397...</td>\n",
              "    </tr>\n",
              "    <tr>\n",
              "      <th>23</th>\n",
              "      <td>artificial intelligence</td>\n",
              "      <td>43</td>\n",
              "      <td>2</td>\n",
              "      <td>1164, 142224, 2894560, 15893057, 52588198, 658...</td>\n",
              "    </tr>\n",
              "    <tr>\n",
              "      <th>24</th>\n",
              "      <td>physics</td>\n",
              "      <td>46</td>\n",
              "      <td>4</td>\n",
              "      <td>22939, 22688097, 13758, 19594028, 24489, 5387,...</td>\n",
              "    </tr>\n",
              "    <tr>\n",
              "      <th>25</th>\n",
              "      <td>nanotechnology</td>\n",
              "      <td>47</td>\n",
              "      <td>2</td>\n",
              "      <td>21488, 7064233, 38324933, 21514, 19637, 144312...</td>\n",
              "    </tr>\n",
              "    <tr>\n",
              "      <th>26</th>\n",
              "      <td>When did the Black Death pandemic occur?</td>\n",
              "      <td>47</td>\n",
              "      <td>13</td>\n",
              "      <td>4501, 16392927, 20993417, 33390780, 20155274, ...</td>\n",
              "    </tr>\n",
              "    <tr>\n",
              "      <th>27</th>\n",
              "      <td>neuroscience</td>\n",
              "      <td>47</td>\n",
              "      <td>2</td>\n",
              "      <td>21245, 50326, 665536, 277956, 1305044, 5836196...</td>\n",
              "    </tr>\n",
              "    <tr>\n",
              "      <th>28</th>\n",
              "      <td>snowboard</td>\n",
              "      <td>16</td>\n",
              "      <td>2</td>\n",
              "      <td>38957, 28262, 25855820, 13006860, 25189611, 23...</td>\n",
              "    </tr>\n",
              "    <tr>\n",
              "      <th>29</th>\n",
              "      <td>Who is the founder of modern psychology?</td>\n",
              "      <td>49</td>\n",
              "      <td>4</td>\n",
              "      <td>1573230, 34128, 90682, 3129664, 26743, 912656,...</td>\n",
              "    </tr>\n",
              "  </tbody>\n",
              "</table>\n",
              "</div>\n",
              "    <div class=\"colab-df-buttons\">\n",
              "\n",
              "  <div class=\"colab-df-container\">\n",
              "    <button class=\"colab-df-convert\" onclick=\"convertToInteractive('df-65849390-fc74-4f23-a23d-25aa512f38a8')\"\n",
              "            title=\"Convert this dataframe to an interactive table.\"\n",
              "            style=\"display:none;\">\n",
              "\n",
              "  <svg xmlns=\"http://www.w3.org/2000/svg\" height=\"24px\" viewBox=\"0 -960 960 960\">\n",
              "    <path d=\"M120-120v-720h720v720H120Zm60-500h600v-160H180v160Zm220 220h160v-160H400v160Zm0 220h160v-160H400v160ZM180-400h160v-160H180v160Zm440 0h160v-160H620v160ZM180-180h160v-160H180v160Zm440 0h160v-160H620v160Z\"/>\n",
              "  </svg>\n",
              "    </button>\n",
              "\n",
              "  <style>\n",
              "    .colab-df-container {\n",
              "      display:flex;\n",
              "      gap: 12px;\n",
              "    }\n",
              "\n",
              "    .colab-df-convert {\n",
              "      background-color: #E8F0FE;\n",
              "      border: none;\n",
              "      border-radius: 50%;\n",
              "      cursor: pointer;\n",
              "      display: none;\n",
              "      fill: #1967D2;\n",
              "      height: 32px;\n",
              "      padding: 0 0 0 0;\n",
              "      width: 32px;\n",
              "    }\n",
              "\n",
              "    .colab-df-convert:hover {\n",
              "      background-color: #E2EBFA;\n",
              "      box-shadow: 0px 1px 2px rgba(60, 64, 67, 0.3), 0px 1px 3px 1px rgba(60, 64, 67, 0.15);\n",
              "      fill: #174EA6;\n",
              "    }\n",
              "\n",
              "    .colab-df-buttons div {\n",
              "      margin-bottom: 4px;\n",
              "    }\n",
              "\n",
              "    [theme=dark] .colab-df-convert {\n",
              "      background-color: #3B4455;\n",
              "      fill: #D2E3FC;\n",
              "    }\n",
              "\n",
              "    [theme=dark] .colab-df-convert:hover {\n",
              "      background-color: #434B5C;\n",
              "      box-shadow: 0px 1px 3px 1px rgba(0, 0, 0, 0.15);\n",
              "      filter: drop-shadow(0px 1px 2px rgba(0, 0, 0, 0.3));\n",
              "      fill: #FFFFFF;\n",
              "    }\n",
              "  </style>\n",
              "\n",
              "    <script>\n",
              "      const buttonEl =\n",
              "        document.querySelector('#df-65849390-fc74-4f23-a23d-25aa512f38a8 button.colab-df-convert');\n",
              "      buttonEl.style.display =\n",
              "        google.colab.kernel.accessAllowed ? 'block' : 'none';\n",
              "\n",
              "      async function convertToInteractive(key) {\n",
              "        const element = document.querySelector('#df-65849390-fc74-4f23-a23d-25aa512f38a8');\n",
              "        const dataTable =\n",
              "          await google.colab.kernel.invokeFunction('convertToInteractive',\n",
              "                                                    [key], {});\n",
              "        if (!dataTable) return;\n",
              "\n",
              "        const docLinkHtml = 'Like what you see? Visit the ' +\n",
              "          '<a target=\"_blank\" href=https://colab.research.google.com/notebooks/data_table.ipynb>data table notebook</a>'\n",
              "          + ' to learn more about interactive tables.';\n",
              "        element.innerHTML = '';\n",
              "        dataTable['output_type'] = 'display_data';\n",
              "        await google.colab.output.renderOutput(dataTable, element);\n",
              "        const docLink = document.createElement('div');\n",
              "        docLink.innerHTML = docLinkHtml;\n",
              "        element.appendChild(docLink);\n",
              "      }\n",
              "    </script>\n",
              "  </div>\n",
              "\n",
              "\n",
              "<div id=\"df-c6d3d13f-469a-42f1-b32d-a0f6e76b4966\">\n",
              "  <button class=\"colab-df-quickchart\" onclick=\"quickchart('df-c6d3d13f-469a-42f1-b32d-a0f6e76b4966')\"\n",
              "            title=\"Suggest charts\"\n",
              "            style=\"display:none;\">\n",
              "\n",
              "<svg xmlns=\"http://www.w3.org/2000/svg\" height=\"24px\"viewBox=\"0 0 24 24\"\n",
              "     width=\"24px\">\n",
              "    <g>\n",
              "        <path d=\"M19 3H5c-1.1 0-2 .9-2 2v14c0 1.1.9 2 2 2h14c1.1 0 2-.9 2-2V5c0-1.1-.9-2-2-2zM9 17H7v-7h2v7zm4 0h-2V7h2v10zm4 0h-2v-4h2v4z\"/>\n",
              "    </g>\n",
              "</svg>\n",
              "  </button>\n",
              "\n",
              "<style>\n",
              "  .colab-df-quickchart {\n",
              "      --bg-color: #E8F0FE;\n",
              "      --fill-color: #1967D2;\n",
              "      --hover-bg-color: #E2EBFA;\n",
              "      --hover-fill-color: #174EA6;\n",
              "      --disabled-fill-color: #AAA;\n",
              "      --disabled-bg-color: #DDD;\n",
              "  }\n",
              "\n",
              "  [theme=dark] .colab-df-quickchart {\n",
              "      --bg-color: #3B4455;\n",
              "      --fill-color: #D2E3FC;\n",
              "      --hover-bg-color: #434B5C;\n",
              "      --hover-fill-color: #FFFFFF;\n",
              "      --disabled-bg-color: #3B4455;\n",
              "      --disabled-fill-color: #666;\n",
              "  }\n",
              "\n",
              "  .colab-df-quickchart {\n",
              "    background-color: var(--bg-color);\n",
              "    border: none;\n",
              "    border-radius: 50%;\n",
              "    cursor: pointer;\n",
              "    display: none;\n",
              "    fill: var(--fill-color);\n",
              "    height: 32px;\n",
              "    padding: 0;\n",
              "    width: 32px;\n",
              "  }\n",
              "\n",
              "  .colab-df-quickchart:hover {\n",
              "    background-color: var(--hover-bg-color);\n",
              "    box-shadow: 0 1px 2px rgba(60, 64, 67, 0.3), 0 1px 3px 1px rgba(60, 64, 67, 0.15);\n",
              "    fill: var(--button-hover-fill-color);\n",
              "  }\n",
              "\n",
              "  .colab-df-quickchart-complete:disabled,\n",
              "  .colab-df-quickchart-complete:disabled:hover {\n",
              "    background-color: var(--disabled-bg-color);\n",
              "    fill: var(--disabled-fill-color);\n",
              "    box-shadow: none;\n",
              "  }\n",
              "\n",
              "  .colab-df-spinner {\n",
              "    border: 2px solid var(--fill-color);\n",
              "    border-color: transparent;\n",
              "    border-bottom-color: var(--fill-color);\n",
              "    animation:\n",
              "      spin 1s steps(1) infinite;\n",
              "  }\n",
              "\n",
              "  @keyframes spin {\n",
              "    0% {\n",
              "      border-color: transparent;\n",
              "      border-bottom-color: var(--fill-color);\n",
              "      border-left-color: var(--fill-color);\n",
              "    }\n",
              "    20% {\n",
              "      border-color: transparent;\n",
              "      border-left-color: var(--fill-color);\n",
              "      border-top-color: var(--fill-color);\n",
              "    }\n",
              "    30% {\n",
              "      border-color: transparent;\n",
              "      border-left-color: var(--fill-color);\n",
              "      border-top-color: var(--fill-color);\n",
              "      border-right-color: var(--fill-color);\n",
              "    }\n",
              "    40% {\n",
              "      border-color: transparent;\n",
              "      border-right-color: var(--fill-color);\n",
              "      border-top-color: var(--fill-color);\n",
              "    }\n",
              "    60% {\n",
              "      border-color: transparent;\n",
              "      border-right-color: var(--fill-color);\n",
              "    }\n",
              "    80% {\n",
              "      border-color: transparent;\n",
              "      border-right-color: var(--fill-color);\n",
              "      border-bottom-color: var(--fill-color);\n",
              "    }\n",
              "    90% {\n",
              "      border-color: transparent;\n",
              "      border-bottom-color: var(--fill-color);\n",
              "    }\n",
              "  }\n",
              "</style>\n",
              "\n",
              "  <script>\n",
              "    async function quickchart(key) {\n",
              "      const quickchartButtonEl =\n",
              "        document.querySelector('#' + key + ' button');\n",
              "      quickchartButtonEl.disabled = true;  // To prevent multiple clicks.\n",
              "      quickchartButtonEl.classList.add('colab-df-spinner');\n",
              "      try {\n",
              "        const charts = await google.colab.kernel.invokeFunction(\n",
              "            'suggestCharts', [key], {});\n",
              "      } catch (error) {\n",
              "        console.error('Error during call to suggestCharts:', error);\n",
              "      }\n",
              "      quickchartButtonEl.classList.remove('colab-df-spinner');\n",
              "      quickchartButtonEl.classList.add('colab-df-quickchart-complete');\n",
              "    }\n",
              "    (() => {\n",
              "      let quickchartButtonEl =\n",
              "        document.querySelector('#df-c6d3d13f-469a-42f1-b32d-a0f6e76b4966 button');\n",
              "      quickchartButtonEl.style.display =\n",
              "        google.colab.kernel.accessAllowed ? 'block' : 'none';\n",
              "    })();\n",
              "  </script>\n",
              "</div>\n",
              "    </div>\n",
              "  </div>\n"
            ],
            "application/vnd.google.colaboratory.intrinsic+json": {
              "type": "dataframe",
              "variable_name": "queries",
              "summary": "{\n  \"name\": \"queries\",\n  \"rows\": 30,\n  \"fields\": [\n    {\n      \"column\": \"Text\",\n      \"properties\": {\n        \"dtype\": \"string\",\n        \"num_unique_values\": 30,\n        \"samples\": [\n          \"neuroscience\",\n          \"Describe the structure of a plant cell.\",\n          \"artificial intelligence\"\n        ],\n        \"semantic_type\": \"\",\n        \"description\": \"\"\n      }\n    },\n    {\n      \"column\": \"Number of Documents\",\n      \"properties\": {\n        \"dtype\": \"number\",\n        \"std\": 8,\n        \"min\": 16,\n        \"max\": 50,\n        \"num_unique_values\": 13,\n        \"samples\": [\n          43,\n          33,\n          46\n        ],\n        \"semantic_type\": \"\",\n        \"description\": \"\"\n      }\n    },\n    {\n      \"column\": \"Query Length\",\n      \"properties\": {\n        \"dtype\": \"number\",\n        \"std\": 4,\n        \"min\": 1,\n        \"max\": 19,\n        \"num_unique_values\": 13,\n        \"samples\": [\n          9,\n          8,\n          4\n        ],\n        \"semantic_type\": \"\",\n        \"description\": \"\"\n      }\n    },\n    {\n      \"column\": \"Expected Documents\",\n      \"properties\": {\n        \"dtype\": \"string\",\n        \"num_unique_values\": 30,\n        \"samples\": [\n          \"21245, 50326, 665536, 277956, 1305044, 58361969, 4794482, 271430, 605477, 20515023, 2640086, 21226, 1948637, 3354877, 1555376, 26081918, 3839716, 25049383, 59255005, 5212945, 24646984, 1822196, 25935238, 36563803, 12101207, 2208074, 3811045, 762064, 44135823, 42003951, 17935654, 25225295, 59161036, 542377, 34095626, 515094, 16264786, 20848680, 26565579, 47403822, 703002, 47095270, 3975854, 1937595, 1391133, 25829369, 27024757\",\n          \"23977, 6312, 13932032, 6355, 32347, 4230, 33051527, 2049869, 22393, 2959657, 1814677, 5184, 7555884, 5106530, 5134478, 6235, 483108, 18952693, 32572, 227682, 9775, 6227883, 6781, 103915, 21958, 46675, 61899, 9927, 7556348, 14464979, 18973622, 156970, 153522, 656613, 24544, 6911, 200182, 21514323, 6339, 20639545, 19828134, 32624519, 19588, 24536543, 25766, 747128, 21076226, 2784383, 102858\",\n          \"1164, 142224, 2894560, 15893057, 52588198, 6585513, 54245, 21523, 586357, 50336055, 566680, 48795986, 60639760, 41755648, 5841092, 233488, 726659, 16598232, 1654769, 813176, 2958015, 12413470, 308362, 54575571, 54008163, 21391751, 13659583, 339417, 32472154, 22264262, 63451675, 11746227, 59539440, 19639, 3548574, 41873354, 534794, 63225340, 2846, 15874732, 46583121, 434274, 7872324\"\n        ],\n        \"semantic_type\": \"\",\n        \"description\": \"\"\n      }\n    }\n  ]\n}"
            }
          },
          "metadata": {},
          "execution_count": 13
        }
      ],
      "source": [
        "import json\n",
        "\n",
        "# Open the JSON file\n",
        "with open('queries_train.json', 'r') as file:\n",
        "    # Load the JSON data into a dictionary\n",
        "    queries_json = json.load(file)\n",
        "\n",
        "# Create lists to hold the data\n",
        "texts = []\n",
        "n_docs_list = []\n",
        "query_lens = []\n",
        "expected_docs = []  # Renamed the variable to avoid conflict\n",
        "\n",
        "# Process each query and extract information\n",
        "for text, documents in queries_json.items():  # Renamed the variable\n",
        "    texts.append(text)\n",
        "    n_docs_list.append(len(documents))\n",
        "    query_lens.append(len(PreprocessQuery(text)))  # Assuming PreprocessQuery and vocab are defined\n",
        "    expected_docs.append(', '.join(documents))\n",
        "\n",
        "# Create a DataFrame\n",
        "data = {\n",
        "    'Text': texts,\n",
        "    'Number of Documents': n_docs_list,\n",
        "    'Query Length': query_lens,\n",
        "    'Expected Documents': expected_docs\n",
        "}\n",
        "\n",
        "queries = pd.DataFrame(data)\n",
        "queries"
      ]
    },
    {
      "cell_type": "markdown",
      "metadata": {
        "id": "mFRllDnOnnk0"
      },
      "source": [
        "### Optimization of weights\n",
        "\n",
        "Examine the results for a train slice of the train queries and decide on weights for best scores"
      ]
    },
    {
      "cell_type": "code",
      "execution_count": 14,
      "metadata": {
        "id": "tfqn_iYuuLai"
      },
      "outputs": [],
      "source": [
        "def BuildFetchedDataSet(query):\n",
        "    '''\n",
        "    This function mimics the data prep process for 1 query, including teh different features needed in order to\n",
        "    optimize the retrieval.\n",
        "    This will be used in the optimization process.\n",
        "    '''\n",
        "    fetched_docs = Search_for_Optimization(query, inverted1, inverted2)\n",
        "    fetched_docs = fetched_docs.reset_index(drop=True)\n",
        "    fetched_docs['Query'] = query\n",
        "    fetched_docs['Query Length'] = len(PreprocessQuery(query, False, False))\n",
        "    fetched_docs['Is a Question'] = 1 if '?' in query else 0\n",
        "    fetched_docs['Contains Quotes'] = 1 if '\"' in query else 0\n",
        "    fetched_docs['Contains Entity'] = 1 if possible_containing_entity(query) else 0\n",
        "    expected_docs = [int(doc_id) for doc_id in queries_json[query]]\n",
        "    fetched_docs['Relevant'] = fetched_docs['Doc_ID'].isin(expected_docs)\n",
        "\n",
        "    return fetched_docs"
      ]
    },
    {
      "cell_type": "markdown",
      "metadata": {
        "id": "siJnZLPw4HZc"
      },
      "source": [
        "### Let's create a random train DS"
      ]
    },
    {
      "cell_type": "code",
      "execution_count": 29,
      "metadata": {
        "colab": {
          "base_uri": "https://localhost:8080/"
        },
        "id": "Esqr6W_a4NcH",
        "outputId": "8eaeb4ed-e679-45d2-f36e-f76c9899c4f7"
      },
      "outputs": [
        {
          "output_type": "stream",
          "name": "stderr",
          "text": [
            "<ipython-input-29-206819dc6fb7>:13: DeprecationWarning: Sampling from a set deprecated\n",
            "since Python 3.9 and will be removed in a subsequent version.\n",
            "  selected_queries = random.sample(queries_json.keys(), train_size)\n"
          ]
        }
      ],
      "source": [
        "import random\n",
        "query_mapper = {}\n",
        "i = 1\n",
        "for query in queries_json.keys():\n",
        "  query_mapper[i] = query\n",
        "  i+=1\n",
        "\n",
        "# Select 80% of the queries\n",
        "train_size = int(len(queries_json) * 0.8)\n",
        "\n",
        "# Randomly select 80% of the queries\n",
        "random.seed(42)\n",
        "selected_queries = random.sample(queries_json.keys(), train_size)\n",
        "\n",
        "features = ['Similarity_Score_Title_Index','Similarity_Score_Body_Index',\n",
        "            'PageRank', 'PageViews']\n",
        "target = 'Relevant'"
      ]
    },
    {
      "cell_type": "markdown",
      "metadata": {
        "id": "5jUlUM3LrG7E"
      },
      "source": [
        "### MinMax Scaling"
      ]
    },
    {
      "cell_type": "code",
      "execution_count": 17,
      "metadata": {
        "id": "VioHRtyIrKD3"
      },
      "outputs": [],
      "source": [
        "def CustomMinMaxScaling(df, num_threads=None):\n",
        "    \"\"\"\n",
        "    Perform Min-Max scaling on specified columns of the DataFrame using provided min-max values.\n",
        "\n",
        "    Parameters:\n",
        "    df (DataFrame): The DataFrame containing the data to be scaled.\n",
        "    min_max_values (dict): A dictionary containing the minimum and maximum values for each column.\n",
        "    columns (list): List of column names to be scaled.\n",
        "    num_threads (int): Number of threads to use for parallel processing. If None, uses the number of available CPUs.\n",
        "\n",
        "    Returns:\n",
        "    DataFrame: DataFrame with specified columns scaled using Min-Max scaling.\n",
        "    \"\"\"\n",
        "    min_max_values = {'Similarity_Score_Title_Index': (0, 1.0000000000000002),\n",
        "                      'Similarity_Score_Body_Index': (0.2500000344706341, 8.205944171811298),\n",
        "                      'PageRank': (0.0, 9.201776686284328),\n",
        "                      'PageViews': (0.0, 19.014704766035365)}\n",
        "    columns = list(min_max_values.keys())\n",
        "    # Create a ThreadPoolExecutor\n",
        "    with ThreadPoolExecutor(max_workers=num_threads) as executor:\n",
        "        # Define a function for scaling each column\n",
        "        def scale_column(col):\n",
        "            min_val, max_val = min_max_values[col]\n",
        "            return (df[col] - min_val) / (max_val - min_val)\n",
        "\n",
        "        # Submit tasks to the executor for each column\n",
        "        scaled_columns = executor.map(scale_column, columns)\n",
        "\n",
        "        # Wait for all tasks to complete and retrieve the results\n",
        "        scaled_columns = list(scaled_columns)\n",
        "\n",
        "    # Create a new DataFrame with the scaled columns\n",
        "    scaled_df = pd.DataFrame({col: scaled_col for col, scaled_col in zip(columns, scaled_columns)})\n",
        "\n",
        "    return scaled_df"
      ]
    },
    {
      "cell_type": "markdown",
      "metadata": {
        "id": "0MQ79x8If6i7"
      },
      "source": [
        "### Optimize Weights (Grid Search)"
      ]
    },
    {
      "cell_type": "code",
      "execution_count": 18,
      "metadata": {
        "id": "JHyOjB9PyA-R"
      },
      "outputs": [],
      "source": [
        "def precision_at_k(true_list, predicted_list, k):\n",
        "    true_set = frozenset(true_list)\n",
        "    predicted_list = predicted_list[:k]\n",
        "    if len(predicted_list) == 0:\n",
        "        return 0.0\n",
        "    return round(len([1 for doc_id in predicted_list if doc_id in true_set]) / len(predicted_list), 3)\n",
        "\n",
        "def recall_at_k(true_list, predicted_list, k):\n",
        "    true_set = frozenset(true_list)\n",
        "    predicted_list = predicted_list[:k]\n",
        "    if len(true_set) < 1:\n",
        "        return 1.0\n",
        "    return round(len([1 for doc_id in predicted_list if doc_id in true_set]) / len(true_set), 3)\n",
        "\n",
        "def f1_at_k(true_list, predicted_list, k):\n",
        "    p = precision_at_k(true_list, predicted_list, k)\n",
        "    r = recall_at_k(true_list, predicted_list, k)\n",
        "    if p == 0.0 or r == 0.0:\n",
        "        return 0.0\n",
        "    return round(2.0 / (1.0/p + 1.0/r), 3)\n",
        "\n",
        "def results_quality(true_list, predicted_list):\n",
        "    p5 = precision_at_k(true_list, predicted_list, 5)\n",
        "    f1_30 = f1_at_k(true_list, predicted_list, 30)\n",
        "    if p5 == 0.0 or f1_30 == 0.0:\n",
        "        return 0.0\n",
        "    return round(2.0 / (1.0/p5 + 1.0/f1_30), 3)\n",
        "\n",
        "def evaluate_performance(query, docs):\n",
        "    docs = docs.sort_values('Weighted_Score', ascending=False)\n",
        "    predicted_list = docs['Doc_ID'].astype(str)\n",
        "    true_list = queries_json[query]\n",
        "    return results_quality(true_list, predicted_list)"
      ]
    },
    {
      "cell_type": "code",
      "source": [
        "import itertools\n",
        "import matplotlib.backends.backend_pdf as pdf\n",
        "import matplotlib.pyplot as plt\n",
        "import pandas as pd\n",
        "\n",
        "# Initialize a PDF file to save the results\n",
        "pdf_pages = pdf.PdfPages('Grid_Search_Results.pdf')\n",
        "\n",
        "features = ['Similarity_Score_Title_Index', 'Similarity_Score_Body_Index',\n",
        "            'PageRank', 'PageViews']\n",
        "query_bank = sorted(list(queries_json.keys()), key=lambda x: len(x.split()))\n",
        "\n",
        "all_query_results = {'Query': [], 'Best Performance': [], 'W1': [], 'W2': [], 'W3': [], 'W4': []}\n",
        "for query in query_bank:\n",
        "    print('calculating for query: ', query)\n",
        "    docs = BuildFetchedDataSet(query)\n",
        "    docs[features] = CustomMinMaxScaling(docs, num_threads=None)\n",
        "\n",
        "    best_performance = float('-inf')\n",
        "    best_weights = None\n",
        "    weight_values = []\n",
        "    performance_values = []\n",
        "\n",
        "    # Generate combinations of weights for w1, w2, w3\n",
        "    weight_combinations = itertools.product(np.arange(0, 1.2, 0.2), repeat=3)\n",
        "\n",
        "    for w1, w2, w3 in weight_combinations:\n",
        "        # Calculate the fourth weight (w4)\n",
        "        w4 = 1 - w1 - w2 - w3\n",
        "        if w4 < 0:  # Skip if w4 is negative\n",
        "            continue\n",
        "\n",
        "        # Assign weights to each feature\n",
        "        docs['Weighted_Score'] = w1 * docs['Similarity_Score_Title_Index'] + \\\n",
        "                                  w2 * docs['Similarity_Score_Body_Index'] + \\\n",
        "                                  w3 * docs['PageRank'] + \\\n",
        "                                  w4 * docs['PageViews']\n",
        "\n",
        "        # Evaluate performance using the weighted score or train a model and evaluate\n",
        "        performance = evaluate_performance(query, docs)  # Replace with your evaluation function\n",
        "        weight_values.append((w1, w2, w3, w4))\n",
        "        performance_values.append(performance)\n",
        "\n",
        "        # Check if current weights lead to better performance\n",
        "        if performance > best_performance:\n",
        "            best_performance = performance\n",
        "            best_weights = (w1, w2, w3, w4)\n",
        "\n",
        "    # Append results for the current query to the list\n",
        "    all_query_results['Query'].append(query)\n",
        "    all_query_results['Best Performance'].append(best_performance)\n",
        "    all_query_results['W1'].append(best_weights[0])\n",
        "    all_query_results['W2'].append(best_weights[1])\n",
        "    all_query_results['W3'].append(best_weights[2])\n",
        "    all_query_results['W4'].append(best_weights[3])\n",
        "    print(\"\\nBest weights:\", best_weights)\n",
        "    print(\"Best performance:\", best_performance)\n",
        "\n",
        "    # Plot performance vs. attempt\n",
        "    plt.figure(figsize=(8, 6))\n",
        "    plt.plot(performance_values)\n",
        "    plt.xlabel('Weights (w1, w2, w3, w4)')\n",
        "    plt.ylabel(f'Performance, best {best_performance}')\n",
        "    plt.title(f'Performance vs Attempt for Query: {query}')\n",
        "    plt.xticks(range(len(weight_values)), [f'({round(w[0], 1)}, {round(w[1], 1)}, {round(w[2], 1)}, {round(w[3], 1)})' for w in weight_values], rotation=90)\n",
        "    plt.tick_params(axis='x', labelsize=6)  # Adjust tick size\n",
        "    plt.tight_layout()  # Adjust layout to increase space\n",
        "\n",
        "    pdf_pages.savefig()\n",
        "    plt.close()\n",
        "\n",
        "# Save the PDF file\n",
        "pdf_pages.close()\n",
        "\n",
        "# Create DataFrame from results and save to Excel\n",
        "df_results = pd.DataFrame(all_query_results)\n",
        "df_results.to_excel('Grid_Search_Results.xlsx', index=False)"
      ],
      "metadata": {
        "colab": {
          "base_uri": "https://localhost:8080/"
        },
        "id": "OLe7n33lBULn",
        "outputId": "4803825c-839d-46d7-f51d-93225ab1daa1"
      },
      "execution_count": 21,
      "outputs": [
        {
          "output_type": "stream",
          "name": "stdout",
          "text": [
            "calculating for query:  genetics\n",
            "\n",
            "Best weights: (0.2, 0.2, 0.2, 0.4000000000000001)\n",
            "Best performance: 0.642\n",
            "calculating for query:  economic\n",
            "\n",
            "Best weights: (0.2, 0.2, 0.0, 0.6000000000000001)\n",
            "Best performance: 0.377\n",
            "calculating for query:  bioinformatics\n",
            "\n",
            "Best weights: (0.2, 0.2, 0.0, 0.6000000000000001)\n",
            "Best performance: 0.539\n",
            "calculating for query:  telecommunications\n",
            "\n",
            "Best weights: (0.2, 0.2, 0.2, 0.4000000000000001)\n",
            "Best performance: 0.527\n",
            "calculating for query:  internet\n",
            "\n",
            "Best weights: (0.4, 0.0, 0.2, 0.39999999999999997)\n",
            "Best performance: 0.667\n",
            "calculating for query:  computer\n",
            "\n",
            "Best weights: (0.2, 0.4, 0.2, 0.2)\n",
            "Best performance: 0.712\n",
            "calculating for query:  medicine\n",
            "\n",
            "Best weights: (0.2, 0.2, 0.2, 0.4000000000000001)\n",
            "Best performance: 0.6\n",
            "calculating for query:  physics\n",
            "\n",
            "Best weights: (0.2, 0.2, 0.0, 0.6000000000000001)\n",
            "Best performance: 0.545\n",
            "calculating for query:  nanotechnology\n",
            "\n",
            "Best weights: (0.2, 0.2, 0.0, 0.6000000000000001)\n",
            "Best performance: 0.806\n",
            "calculating for query:  neuroscience\n",
            "\n",
            "Best weights: (0.2, 0.2, 0.0, 0.6000000000000001)\n",
            "Best performance: 0.684\n",
            "calculating for query:  snowboard\n",
            "\n",
            "Best weights: (0.2, 0.2, 0.6000000000000001, 0.0)\n",
            "Best performance: 0.605\n",
            "calculating for query:  video gaming\n",
            "\n",
            "Best weights: (0.0, 0.6000000000000001, 0.2, 0.1999999999999999)\n",
            "Best performance: 0.192\n",
            "calculating for query:  artificial intelligence\n",
            "\n",
            "Best weights: (0.2, 0.4, 0.0, 0.4)\n",
            "Best performance: 0.752\n",
            "calculating for query:  3D printing technology\n",
            "\n",
            "Best weights: (0.0, 0.8, 0.0, 0.19999999999999996)\n",
            "Best performance: 0.443\n",
            "calculating for query:  Who painted \"Starry Night\"?\n",
            "\n",
            "Best weights: (0.0, 0.6000000000000001, 0.2, 0.1999999999999999)\n",
            "Best performance: 0.363\n",
            "calculating for query:  Describe the water cycle.\n",
            "\n",
            "Best weights: (0.2, 0.4, 0.4, 0.0)\n",
            "Best performance: 0.279\n",
            "calculating for query:  When was the United Nations founded?\n",
            "\n",
            "Best weights: (0.2, 0.6000000000000001, 0.0, 0.19999999999999996)\n",
            "Best performance: 0.423\n",
            "calculating for query:  Who is the author of \"1984\"?\n",
            "\n",
            "Best weights: (0.2, 0.8, 0.0, 0.0)\n",
            "Best performance: 0.048\n",
            "calculating for query:  Describe the process of water erosion.\n",
            "\n",
            "Best weights: (0.2, 0.4, 0.2, 0.2)\n",
            "Best performance: 0.632\n",
            "calculating for query:  When was the Berlin Wall constructed?\n",
            "\n",
            "Best weights: (0.0, 0.8, 0.0, 0.19999999999999996)\n",
            "Best performance: 0.62\n",
            "calculating for query:  When did World War II end?\n",
            "\n",
            "Best weights: (0.4, 0.2, 0.2, 0.19999999999999996)\n",
            "Best performance: 0.462\n",
            "calculating for query:  Describe the structure of a plant cell.\n",
            "\n",
            "Best weights: (0.2, 0.6000000000000001, 0.0, 0.19999999999999996)\n",
            "Best performance: 0.413\n",
            "calculating for query:  When was the Gutenberg printing press invented?\n",
            "\n",
            "Best weights: (0.0, 0.6000000000000001, 0.0, 0.3999999999999999)\n",
            "Best performance: 0.712\n",
            "calculating for query:  When did the Black Death pandemic occur?\n",
            "\n",
            "Best weights: (0.2, 0.8, 0.0, 0.0)\n",
            "Best performance: 0.432\n",
            "calculating for query:  Who is the founder of modern psychology?\n",
            "\n",
            "Best weights: (0.2, 0.6000000000000001, 0.0, 0.19999999999999996)\n",
            "Best performance: 0.273\n",
            "calculating for query:  What are the characteristics of a chemical element?\n",
            "\n",
            "Best weights: (0.0, 0.6000000000000001, 0.0, 0.3999999999999999)\n",
            "Best performance: 0.545\n",
            "calculating for query:  What is the structure of the Earth's layers?\n",
            "\n",
            "Best weights: (0.0, 0.8, 0.0, 0.19999999999999996)\n",
            "Best performance: 0.341\n",
            "calculating for query:  Who is considered the \"Father of the United States\"?\n",
            "\n",
            "Best weights: (0.2, 0.0, 0.0, 0.8)\n",
            "Best performance: 0.044\n",
            "calculating for query:  What is the meaning of the term \"Habeas Corpus\"?\n",
            "\n",
            "Best weights: (0.2, 0.6000000000000001, 0.0, 0.19999999999999996)\n",
            "Best performance: 0.672\n",
            "calculating for query:  Who is known for proposing the heliocentric model of the solar system?\n",
            "\n",
            "Best weights: (0.0, 0.8, 0.0, 0.19999999999999996)\n",
            "Best performance: 0.509\n"
          ]
        }
      ]
    },
    {
      "cell_type": "markdown",
      "source": [
        "### Analize Specific Cases"
      ],
      "metadata": {
        "id": "mOfet_iXJGQe"
      }
    },
    {
      "cell_type": "code",
      "source": [
        "query = 'nanotechnology'\n",
        "docs = BuildFetchedDataSet(query)\n",
        "docs[features] = CustomMinMaxScaling(docs, num_threads=None)\n",
        "# docs"
      ],
      "metadata": {
        "id": "96lNaaQBJKBy"
      },
      "execution_count": 27,
      "outputs": []
    },
    {
      "cell_type": "code",
      "source": [
        "# Sample DataFrame setup\n",
        "np.random.seed(0)  # For reproducible results\n",
        "sample_size = 100  # Example sample size\n",
        "df_example = docs\n",
        "\n",
        "# Creating the scatter plot\n",
        "plt.figure(figsize=(7, 4))\n",
        "\n",
        "# Plotting true values in green\n",
        "plt.scatter(df_example.loc[df_example['Relevant'], 'Similarity_Score_Title_Index'],\n",
        "            df_example.loc[df_example['Relevant'], 'Similarity_Score_Body_Index'],\n",
        "            color='green', label='Relevant = True')\n",
        "\n",
        "# Plotting false values in light yellow\n",
        "plt.scatter(df_example.loc[~df_example['Relevant'], 'Similarity_Score_Title_Index'],\n",
        "            df_example.loc[~df_example['Relevant'], 'Similarity_Score_Body_Index'],\n",
        "            color='yellow', edgecolor='black', label='Relevant = False')\n",
        "\n",
        "plt.title('Scatter Plot of Similarity Scores with Relevance')\n",
        "plt.xlabel('Similarity Score Title Index')\n",
        "plt.ylabel('Similarity Score Body Index')\n",
        "plt.legend()\n",
        "plt.show()"
      ],
      "metadata": {
        "colab": {
          "base_uri": "https://localhost:8080/",
          "height": 410
        },
        "id": "a_O3DQexY6td",
        "outputId": "39465b8d-a3dd-462f-ffd8-70c1245b18e5"
      },
      "execution_count": 28,
      "outputs": [
        {
          "output_type": "display_data",
          "data": {
            "text/plain": [
              "<Figure size 700x400 with 1 Axes>"
            ],
            "image/png": "[encoded data removed]"
          },
          "metadata": {}
        }
      ]
    },
    {
      "cell_type": "markdown",
      "source": [
        "### Generalized Sorting Rules"
      ],
      "metadata": {
        "id": "0_NLOmzzUR-E"
      }
    },
    {
      "cell_type": "code",
      "source": [
        "from sklearn.tree import DecisionTreeRegressor, plot_tree\n",
        "tree_features = ['Query Length', 'Is a Question','Contains Quotes', 'Contains Entity']\n",
        "target = 'Performance'\n",
        "# Create a decisional tree for the train and full queries, to decide on query rules\n",
        "# Filter the dataset for these queries\n",
        "data = pd.read_excel('/content/measures.xlsx', sheet_name='Queries optimization - No Synon')\n",
        "filtered_data = data[data['train'] == 1]\n",
        "\n",
        "# Training the decision tree model on the filtered dataset\n",
        "tree_regressor_filtered = DecisionTreeRegressor(max_depth=3, random_state=0)\n",
        "tree_regressor_filtered.fit(filtered_data[tree_features], filtered_data[target])\n",
        "\n",
        "# Plotting the tree for the filtered dataset\n",
        "plt.figure(figsize=(15,7))\n",
        "plot_tree(tree_regressor_filtered, feature_names=tree_features, filled=True, rounded=True, proportion=False, precision=2)\n",
        "plt.show()"
      ],
      "metadata": {
        "colab": {
          "base_uri": "https://localhost:8080/",
          "height": 489
        },
        "id": "ev1nCuz6rmT7",
        "outputId": "a4429419-4540-40e9-d251-55fbc42012f2"
      },
      "execution_count": 35,
      "outputs": [
        {
          "output_type": "display_data",
          "data": {
            "text/plain": [
              "<Figure size 1500x700 with 1 Axes>"
            ],
            "image/png": "[encoded data removed]"
          },
          "metadata": {}
        }
      ]
    },
    {
      "cell_type": "code",
      "source": [
        "def GetWeights(query):\n",
        "  '''\n",
        "  Create weights for the different cases in the\n",
        "  '''\n",
        "  query_length = PreprocessQuery(query, False, False)\n",
        "  if query_length == 1:\n",
        "    return 0.2, 0.2, 0.2, 0.4\n",
        "  else:\n",
        "    if possible_containing_entity(query):\n",
        "      return 0, 0.8, 0, 0.2\n",
        "    else:\n",
        "      return 0.2, 0.4, 0.2, 0.2"
      ],
      "metadata": {
        "id": "DVnNdA2C0gp2"
      },
      "execution_count": 43,
      "outputs": []
    },
    {
      "cell_type": "code",
      "source": [
        "results = []\n",
        "for query in queries_json.keys():\n",
        "  # if query not in selected_queries:\n",
        "  docs = BuildFetchedDataSet(query)\n",
        "  docs[features] = CustomMinMaxScaling(docs, num_threads=None)\n",
        "  w1, w2, w3, w4 = GetWeights(query)\n",
        "  docs['Weighted_Score'] = w1 * docs['Similarity_Score_Title_Index'] + \\\n",
        "                                w2 * docs['Similarity_Score_Body_Index'] + \\\n",
        "                                w3 * docs['PageRank'] + \\\n",
        "                                w4 * docs['PageViews']\n",
        "  results.append(evaluate_performance(query, docs))\n",
        "print(sum(results) / len(results))"
      ],
      "metadata": {
        "colab": {
          "base_uri": "https://localhost:8080/"
        },
        "id": "pqmS_qLAxLNG",
        "outputId": "7772a114-6cfb-4d15-96ba-71fe5ae4130b"
      },
      "execution_count": 46,
      "outputs": [
        {
          "output_type": "stream",
          "name": "stdout",
          "text": [
            "0.44453333333333334\n"
          ]
        }
      ]
    },
    {
      "cell_type": "markdown",
      "source": [
        "### Final Ranking Function"
      ],
      "metadata": {
        "id": "UYmL0uv9GCYS"
      }
    },
    {
      "cell_type": "code",
      "source": [
        "def GetResults(query):\n",
        "    '''\n",
        "    The input for this function are the total documents retrieved and their different scores.\n",
        "    This function ranks them and return them as [(str(doc_id),title),...].\n",
        "    Return top 30 docs.\n",
        "    '''\n",
        "    features = ['Similarity_Score_Title_Index', 'Similarity_Score_Body_Index',\n",
        "            'PageRank', 'PageViews']\n",
        "    fetched_docs = Search_for_Optimization(query, inverted1, inverted2)\n",
        "    fetched_docs['Query Length'] = len(PreprocessQuery(query, False, False))\n",
        "    fetched_docs['Contains Entity'] = 1 if possible_containing_entity(query) else 0\n",
        "    fetched_docs[features] = CustomMinMaxScaling(fetched_docs, num_threads=None)\n",
        "    w1, w2, w3, w4 = GetWeights(query)\n",
        "    fetched_docs['Weighted_Score'] = w1 * fetched_docs['Similarity_Score_Title_Index'] + \\\n",
        "                                w2 * fetched_docs['Similarity_Score_Body_Index'] + \\\n",
        "                                w3 * fetched_docs['PageRank'] + \\\n",
        "                                w4 * fetched_docs['PageViews']\n",
        "\n",
        "    docs = fetched_docs.sort_values('Weighted_Score', ascending=False)[:20000]\n",
        "    return docs\n",
        "    # return [(str(doc_id), title) for doc_id, title in zip(docs['Doc_ID'], docs['Title'])]"
      ],
      "metadata": {
        "id": "ksObrOsVGG2p"
      },
      "execution_count": 93,
      "outputs": []
    },
    {
      "cell_type": "markdown",
      "source": [
        "### Local Time Test"
      ],
      "metadata": {
        "id": "Kktlbv5DNn6A"
      }
    },
    {
      "cell_type": "code",
      "source": [
        "import time\n",
        "def time_test(queries_json):\n",
        "  times = []\n",
        "  for query in queries_json:\n",
        "    s = time.time()\n",
        "    GetResults(query)\n",
        "    e = time.time()\n",
        "    t = e-s\n",
        "    times.append(t)\n",
        "  return sum(times)/len(times)"
      ],
      "metadata": {
        "id": "asOjPotmM-HD"
      },
      "execution_count": 58,
      "outputs": []
    },
    {
      "cell_type": "code",
      "source": [
        "time_test(queries_json)"
      ],
      "metadata": {
        "colab": {
          "base_uri": "https://localhost:8080/"
        },
        "id": "TjpbHeOrNujE",
        "outputId": "35bb08eb-7547-446d-cb6e-6c558e64730a"
      },
      "execution_count": 64,
      "outputs": [
        {
          "output_type": "execute_result",
          "data": {
            "text/plain": [
              "11.215993038813274"
            ]
          },
          "metadata": {},
          "execution_count": 64
        }
      ]
    },
    {
      "cell_type": "code",
      "source": [
        "import matplotlib.pyplot as plt\n",
        "\n",
        "# Data\n",
        "categories = ['Retrieval Time - Parallel', 'Retrieval Time - Sequential']\n",
        "times = [9.44, 25]  # Assuming 25+ as 25 for simplicity in visualization\n",
        "\n",
        "# Creating the plot with a specified figure size\n",
        "# Reduce the height of the figure to make the plot thinner\n",
        "fig, ax = plt.subplots(figsize=(8, 2))  # Adjust the figsize to control the overall size of the plot\n",
        "\n",
        "# Draw the bars closer to each other by adjusting the height parameter\n",
        "bars = ax.barh(categories, times, color=['green', 'red'], height=0.4)  # Adjust the height for closer bars\n",
        "\n",
        "# Adding text labels to the bars\n",
        "for bar in bars:\n",
        "    width = bar.get_width()\n",
        "    label_x_pos = width + 0.5  # Adjust this value to place the label closer to the end of the bar\n",
        "    ax.text(label_x_pos, bar.get_y() + bar.get_height() / 2, f'{width}s', va='center')\n",
        "\n",
        "# Setting labels and title\n",
        "ax.set_xlabel('Time (seconds)')\n",
        "ax.set_title('Retrieval Time Comparison on Colab')\n",
        "ax.set_xlim(0, 30)\n",
        "\n",
        "\n",
        "plt.tight_layout()\n",
        "plt.show()"
      ],
      "metadata": {
        "colab": {
          "base_uri": "https://localhost:8080/",
          "height": 207
        },
        "id": "_KZEaANTUYBx",
        "outputId": "c8d227be-febc-4954-bf17-601eaa470d92"
      },
      "execution_count": 71,
      "outputs": [
        {
          "output_type": "display_data",
          "data": {
            "text/plain": [
              "<Figure size 800x200 with 1 Axes>"
            ],
            "image/png": "[encoded data removed]"
          },
          "metadata": {}
        }
      ]
    },
    {
      "cell_type": "markdown",
      "metadata": {
        "id": "CFBNOTob4pNv"
      },
      "source": [
        "# Attemps and Research"
      ]
    },
    {
      "cell_type": "markdown",
      "metadata": {
        "id": "oMTXUnD6pere"
      },
      "source": [
        "### ANN Training (MLE)"
      ]
    },
    {
      "cell_type": "code",
      "execution_count": null,
      "metadata": {
        "id": "o3zKb5b5piGF"
      },
      "outputs": [],
      "source": [
        "import torch\n",
        "import torch.nn as nn\n",
        "import torch.optim as optim\n",
        "from sklearn.model_selection import train_test_split\n",
        "from sklearn.preprocessing import StandardScaler\n",
        "\n",
        "# Define your neural network architecture\n",
        "class NeuralNetwork(nn.Module):\n",
        "    def __init__(self, input_size):\n",
        "        super(NeuralNetwork, self).__init__()\n",
        "        self.fc1 = nn.Linear(input_size, 128)\n",
        "        self.fc2 = nn.Linear(128, 64)\n",
        "        self.fc3 = nn.Linear(64, 1)\n",
        "\n",
        "    def forward(self, x):\n",
        "        x = torch.relu(self.fc1(x))\n",
        "        x = torch.relu(self.fc2(x))\n",
        "        x = torch.sigmoid(self.fc3(x))  # Output layer for binary classification\n",
        "        return x\n",
        "\n",
        "# Assuming you have your features X and target y defined\n",
        "# Convert DataFrame to numpy arrays\n",
        "X_numpy = X.values\n",
        "y_numpy = y.values\n",
        "\n",
        "# Convert numpy arrays to PyTorch tensors\n",
        "X_tensor = torch.tensor(X_numpy, dtype=torch.float32)\n",
        "y_tensor = torch.tensor(y_numpy, dtype=torch.float32)\n",
        "\n",
        "# The total number of features\n",
        "total_features = X_numpy.shape[1]\n",
        "\n",
        "# Split the data into training and validation sets\n",
        "X_train, X_val, y_train, y_val = train_test_split(X_tensor, y_tensor, test_size=0.2, random_state=42)\n",
        "\n",
        "# Preprocessing (standard scaling)\n",
        "scaler = StandardScaler()\n",
        "X_train_scaled = scaler.fit_transform(X_train)\n",
        "X_val_scaled = scaler.transform(X_val)\n",
        "\n",
        "# Convert scaled numpy arrays to PyTorch tensors\n",
        "X_train_scaled_tensor = torch.tensor(X_train_scaled, dtype=torch.float32)\n",
        "X_val_scaled_tensor = torch.tensor(X_val_scaled, dtype=torch.float32)\n",
        "\n",
        "# Initialize the neural network model\n",
        "model = NeuralNetwork(total_features)\n",
        "\n",
        "# Define loss function and optimizer\n",
        "criterion = nn.BCELoss()\n",
        "optimizer = optim.Adam(model.parameters(), lr=0.001)\n",
        "\n",
        "# Train the model\n",
        "for epoch in range(100):\n",
        "    optimizer.zero_grad()\n",
        "    outputs = model(X_train_scaled_tensor)\n",
        "    loss = criterion(outputs.squeeze(), y_train)  # Remove the extra dimension from outputs\n",
        "    loss.backward()\n",
        "    optimizer.step()\n",
        "\n",
        "    if epoch % 10 == 0:\n",
        "        print(f'Epoch [{epoch + 1}/100], Loss: {loss.item():.4f}')\n",
        "\n",
        "# Evaluate the model on validation set\n",
        "with torch.no_grad():\n",
        "    outputs = model(X_val_scaled_tensor)\n",
        "    predicted_labels = (outputs >= 0.5).float()\n",
        "    accuracy = (predicted_labels.squeeze() == y_val).float().mean()\n",
        "\n",
        "print(\"Validation Accuracy:\", accuracy.item())"
      ]
    },
    {
      "cell_type": "code",
      "execution_count": null,
      "metadata": {
        "id": "HexjBmuo0JOa"
      },
      "outputs": [],
      "source": [
        "# Preprocess the test set\n",
        "X_test_scaled = scaler.transform(X_test.values)  # Assuming scaler is already fitted\n",
        "\n",
        "# Convert scaled numpy array to PyTorch tensor\n",
        "X_test_scaled_tensor = torch.tensor(X_test_scaled, dtype=torch.float32)\n",
        "\n",
        "# Pass the preprocessed test set through the trained model\n",
        "with torch.no_grad():\n",
        "    outputs = model(X_test_scaled_tensor)\n",
        "    predicted_probabilities = torch.sigmoid(outputs)\n",
        "\n",
        "full_test_with_pred = test_ds.copy()\n",
        "full_test_with_pred['Prediction'] = predicted_probabilities"
      ]
    },
    {
      "cell_type": "code",
      "execution_count": null,
      "metadata": {
        "colab": {
          "base_uri": "https://localhost:8080/"
        },
        "id": "8l6SRRd-1J21",
        "outputId": "a76d2727-0e1b-48a0-cece-0f9aac8c85be"
      },
      "outputs": [
        {
          "name": "stdout",
          "output_type": "stream",
          "text": [
            "Precision@5: 0.0\n",
            "Precision@10: 0.0\n",
            "Precision@50: 0.0\n",
            "Precision@100: 0.0\n",
            "F1@30: 0.0\n"
          ]
        },
        {
          "name": "stderr",
          "output_type": "stream",
          "text": [
            "/usr/local/lib/python3.10/dist-packages/sklearn/metrics/_classification.py:1344: UndefinedMetricWarning: Precision is ill-defined and being set to 0.0 due to no predicted samples. Use `zero_division` parameter to control this behavior.\n",
            "  _warn_prf(average, modifier, msg_start, len(result))\n",
            "/usr/local/lib/python3.10/dist-packages/sklearn/metrics/_classification.py:1344: UndefinedMetricWarning: Precision is ill-defined and being set to 0.0 due to no predicted samples. Use `zero_division` parameter to control this behavior.\n",
            "  _warn_prf(average, modifier, msg_start, len(result))\n",
            "/usr/local/lib/python3.10/dist-packages/sklearn/metrics/_classification.py:1344: UndefinedMetricWarning: Precision is ill-defined and being set to 0.0 due to no predicted samples. Use `zero_division` parameter to control this behavior.\n",
            "  _warn_prf(average, modifier, msg_start, len(result))\n",
            "/usr/local/lib/python3.10/dist-packages/sklearn/metrics/_classification.py:1344: UndefinedMetricWarning: Precision is ill-defined and being set to 0.0 due to no predicted samples. Use `zero_division` parameter to control this behavior.\n",
            "  _warn_prf(average, modifier, msg_start, len(result))\n",
            "/usr/local/lib/python3.10/dist-packages/sklearn/metrics/_classification.py:1609: UndefinedMetricWarning: F-score is ill-defined and being set to 0.0 due to no true nor predicted samples. Use `zero_division` parameter to control this behavior.\n",
            "  _warn_prf(average, \"true nor predicted\", \"F-score is\", len(true_sum))\n"
          ]
        }
      ],
      "source": [
        "import pandas as pd\n",
        "from sklearn.metrics import precision_score, f1_score\n",
        "\n",
        "queries = list(set(full_test_with_pred['Query']))\n",
        "# Sort the DataFrame by predicted probabilities in descending order\n",
        "query_pred = full_test_with_pred[full_test_with_pred['Query'] == queries[0]]\n",
        "full_test_with_pred_sorted = full_test_with_pred.sort_values(by='Prediction', ascending=False)\n",
        "full_test_with_pred_sorted = full_test_with_pred_sorted.reset_index(drop=True)\n",
        "\n",
        "# Calculate precision@5, precision@10, and F1@30 scores\n",
        "relevant_labels = full_test_with_pred_sorted['Relevant'].values\n",
        "\n",
        "# Precision@5\n",
        "precision_at_5 = precision_score(relevant_labels[:5], relevant_labels[:5])\n",
        "# Precision@10\n",
        "precision_at_10 = precision_score(relevant_labels[:10], relevant_labels[:10])\n",
        "# Precision@50\n",
        "precision_at_50 = precision_score(relevant_labels[:50], relevant_labels[:50])\n",
        "# Precision@100\n",
        "precision_at_100 = precision_score(relevant_labels[:100], relevant_labels[:100])\n",
        "# F1@30\n",
        "f1_at_30 = f1_score(relevant_labels[:30], relevant_labels[:30])\n",
        "\n",
        "print(\"Precision@5:\", precision_at_5)\n",
        "print(\"Precision@10:\", precision_at_10)\n",
        "print(\"Precision@50:\", precision_at_50)\n",
        "print(\"Precision@100:\", precision_at_100)\n",
        "print(\"F1@30:\", f1_at_30)"
      ]
    },
    {
      "cell_type": "markdown",
      "metadata": {
        "id": "7U3ETimdA1y8"
      },
      "source": [
        "### Feature Selection"
      ]
    },
    {
      "cell_type": "code",
      "execution_count": null,
      "metadata": {
        "colab": {
          "base_uri": "https://localhost:8080/"
        },
        "id": "O1HiV835A37B",
        "outputId": "584bc4b2-86b7-4448-e77f-b7477925c467"
      },
      "outputs": [
        {
          "name": "stdout",
          "output_type": "stream",
          "text": [
            "Lasso Important Features:\n",
            "Index(['Similarity_Score_Title_Index', 'Similarity_Score_Body_Index',\n",
            "       'Similarity_Score_Body_Entity', 'PageRank', 'PageViews',\n",
            "       'Query Length'],\n",
            "      dtype='object')\n",
            "RFE Important Features:\n",
            "Index(['Similarity_Score_Title_Index', 'Similarity_Score_Body_Index',\n",
            "       'Similarity_Score_Title_Entity', 'Query Length', 'Contains Quotes'],\n",
            "      dtype='object')\n",
            "Elastic Net Important Features:\n",
            "Index(['Similarity_Score_Title_Index', 'Similarity_Score_Body_Index',\n",
            "       'Similarity_Score_Body_Entity', 'PageRank', 'PageViews',\n",
            "       'Query Length'],\n",
            "      dtype='object')\n"
          ]
        },
        {
          "name": "stderr",
          "output_type": "stream",
          "text": [
            "/usr/local/lib/python3.10/dist-packages/sklearn/linear_model/_logistic.py:458: ConvergenceWarning: lbfgs failed to converge (status=1):\n",
            "STOP: TOTAL NO. of ITERATIONS REACHED LIMIT.\n",
            "\n",
            "Increase the number of iterations (max_iter) or scale the data as shown in:\n",
            "    https://scikit-learn.org/stable/modules/preprocessing.html\n",
            "Please also refer to the documentation for alternative solver options:\n",
            "    https://scikit-learn.org/stable/modules/linear_model.html#logistic-regression\n",
            "  n_iter_i = _check_optimize_result(\n"
          ]
        },
        {
          "name": "stdout",
          "output_type": "stream",
          "text": [
            "SFM Important Features:\n",
            "Index(['Similarity_Score_Title_Index', 'Similarity_Score_Body_Index',\n",
            "       'PageRank', 'PageViews', 'sum_similarity'],\n",
            "      dtype='object')\n"
          ]
        }
      ],
      "source": [
        "from sklearn.linear_model import Lasso, LogisticRegression, ElasticNet\n",
        "from sklearn.feature_selection import RFE, SelectFromModel\n",
        "from sklearn.ensemble import GradientBoostingClassifier, AdaBoostClassifier, RandomForestClassifier\n",
        "import lightgbm as lgb\n",
        "from sklearn.ensemble import RandomForestClassifier\n",
        "from sklearn.metrics import precision_score, f1_score\n",
        "\n",
        "# Define train and test datasets (already split)\n",
        "# train_df, test_df\n",
        "irrelevant = ['Doc_ID', 'Title', 'Query']\n",
        "# Drop the irrelevant columns from train dataset\n",
        "X_train = train_ds.drop(irrelevant, axis=1)\n",
        "# Drop the irrelevant columns from test dataset\n",
        "irrelevant.append('Relevant')\n",
        "X_test = test_ds.drop(irrelevant, axis=1)\n",
        "# Separate features and target variable for training dataset\n",
        "X_train = X_train.drop(columns=['Relevant'])\n",
        "y_train = train_ds['Relevant']\n",
        "# Separate features and target variable for test dataset\n",
        "y_test = test_ds['Relevant']\n",
        "\n",
        "# Initialize models\n",
        "lasso = Lasso(alpha=0.1)\n",
        "rfe = RFE(LogisticRegression(), n_features_to_select=5)\n",
        "elastic_net = ElasticNet(alpha=0.1, l1_ratio=0.5)\n",
        "sfm = SelectFromModel(RandomForestClassifier(n_estimators=100))\n",
        "\n",
        "# Fit models and print important features\n",
        "lasso.fit(X_train, y_train)\n",
        "print(\"Lasso Important Features:\")\n",
        "print(X_train.columns[lasso.coef_ != 0])\n",
        "\n",
        "rfe.fit(X_train, y_train)\n",
        "print(\"RFE Important Features:\")\n",
        "print(X_train.columns[rfe.support_])\n",
        "\n",
        "elastic_net.fit(X_train, y_train)\n",
        "print(\"Elastic Net Important Features:\")\n",
        "print(X_train.columns[elastic_net.coef_ != 0])\n",
        "\n",
        "sfm.fit(X_train, y_train)\n",
        "print(\"SFM Important Features:\")\n",
        "print(X_train.columns[sfm.get_support()])"
      ]
    },
    {
      "cell_type": "markdown",
      "metadata": {
        "id": "r6WNL-o8CP_J"
      },
      "source": [
        "### Train a model"
      ]
    },
    {
      "cell_type": "code",
      "execution_count": null,
      "metadata": {
        "colab": {
          "base_uri": "https://localhost:8080/"
        },
        "id": "9kfXcoKhCHQT",
        "outputId": "b4fbeed8-6151-4393-c35b-16e683ff1d30"
      },
      "outputs": [
        {
          "name": "stdout",
          "output_type": "stream",
          "text": [
            "[LightGBM] [Info] Number of positive: 27, number of negative: 26\n",
            "[LightGBM] [Info] Auto-choosing col-wise multi-threading, the overhead of testing was 0.000032 seconds.\n",
            "You can set `force_col_wise=true` to remove the overhead.\n",
            "[LightGBM] [Info] Total Bins 73\n",
            "[LightGBM] [Info] Number of data points in the train set: 53, number of used features: 5\n",
            "[LightGBM] [Info] [binary:BoostFromScore]: pavg=0.509434 -> initscore=0.037740\n",
            "[LightGBM] [Info] Start training from score 0.037740\n",
            "[LightGBM] [Warning] No further splits with positive gain, best gain: -inf\n",
            "[LightGBM] [Warning] No further splits with positive gain, best gain: -inf\n",
            "[LightGBM] [Warning] No further splits with positive gain, best gain: -inf\n",
            "[LightGBM] [Warning] No further splits with positive gain, best gain: -inf\n",
            "[LightGBM] [Warning] No further splits with positive gain, best gain: -inf\n",
            "[LightGBM] [Warning] No further splits with positive gain, best gain: -inf\n",
            "[LightGBM] [Warning] No further splits with positive gain, best gain: -inf\n",
            "[LightGBM] [Warning] No further splits with positive gain, best gain: -inf\n",
            "[LightGBM] [Warning] No further splits with positive gain, best gain: -inf\n",
            "[LightGBM] [Warning] No further splits with positive gain, best gain: -inf\n",
            "[LightGBM] [Warning] No further splits with positive gain, best gain: -inf\n",
            "[LightGBM] [Warning] No further splits with positive gain, best gain: -inf\n",
            "[LightGBM] [Warning] No further splits with positive gain, best gain: -inf\n",
            "[LightGBM] [Warning] No further splits with positive gain, best gain: -inf\n",
            "[LightGBM] [Warning] No further splits with positive gain, best gain: -inf\n",
            "[LightGBM] [Warning] No further splits with positive gain, best gain: -inf\n",
            "[LightGBM] [Warning] No further splits with positive gain, best gain: -inf\n",
            "[LightGBM] [Warning] No further splits with positive gain, best gain: -inf\n",
            "[LightGBM] [Warning] No further splits with positive gain, best gain: -inf\n",
            "[LightGBM] [Warning] No further splits with positive gain, best gain: -inf\n",
            "[LightGBM] [Warning] No further splits with positive gain, best gain: -inf\n",
            "[LightGBM] [Warning] No further splits with positive gain, best gain: -inf\n",
            "[LightGBM] [Warning] No further splits with positive gain, best gain: -inf\n",
            "[LightGBM] [Warning] No further splits with positive gain, best gain: -inf\n",
            "[LightGBM] [Warning] No further splits with positive gain, best gain: -inf\n",
            "[LightGBM] [Warning] No further splits with positive gain, best gain: -inf\n",
            "[LightGBM] [Warning] No further splits with positive gain, best gain: -inf\n",
            "[LightGBM] [Warning] No further splits with positive gain, best gain: -inf\n",
            "[LightGBM] [Warning] No further splits with positive gain, best gain: -inf\n",
            "[LightGBM] [Warning] No further splits with positive gain, best gain: -inf\n",
            "[LightGBM] [Warning] No further splits with positive gain, best gain: -inf\n",
            "[LightGBM] [Warning] No further splits with positive gain, best gain: -inf\n",
            "[LightGBM] [Warning] No further splits with positive gain, best gain: -inf\n",
            "[LightGBM] [Warning] No further splits with positive gain, best gain: -inf\n",
            "[LightGBM] [Warning] No further splits with positive gain, best gain: -inf\n",
            "[LightGBM] [Warning] No further splits with positive gain, best gain: -inf\n",
            "[LightGBM] [Warning] No further splits with positive gain, best gain: -inf\n",
            "[LightGBM] [Warning] No further splits with positive gain, best gain: -inf\n",
            "[LightGBM] [Warning] No further splits with positive gain, best gain: -inf\n",
            "[LightGBM] [Warning] No further splits with positive gain, best gain: -inf\n",
            "[LightGBM] [Warning] No further splits with positive gain, best gain: -inf\n",
            "[LightGBM] [Warning] No further splits with positive gain, best gain: -inf\n",
            "[LightGBM] [Warning] No further splits with positive gain, best gain: -inf\n",
            "[LightGBM] [Warning] No further splits with positive gain, best gain: -inf\n",
            "[LightGBM] [Warning] No further splits with positive gain, best gain: -inf\n",
            "[LightGBM] [Warning] No further splits with positive gain, best gain: -inf\n",
            "[LightGBM] [Warning] No further splits with positive gain, best gain: -inf\n",
            "[LightGBM] [Warning] No further splits with positive gain, best gain: -inf\n",
            "[LightGBM] [Warning] No further splits with positive gain, best gain: -inf\n",
            "[LightGBM] [Warning] No further splits with positive gain, best gain: -inf\n",
            "[LightGBM] [Warning] No further splits with positive gain, best gain: -inf\n",
            "[LightGBM] [Warning] No further splits with positive gain, best gain: -inf\n",
            "[LightGBM] [Warning] No further splits with positive gain, best gain: -inf\n",
            "[LightGBM] [Warning] No further splits with positive gain, best gain: -inf\n",
            "[LightGBM] [Warning] No further splits with positive gain, best gain: -inf\n",
            "[LightGBM] [Warning] No further splits with positive gain, best gain: -inf\n",
            "[LightGBM] [Warning] No further splits with positive gain, best gain: -inf\n",
            "[LightGBM] [Warning] No further splits with positive gain, best gain: -inf\n",
            "[LightGBM] [Warning] No further splits with positive gain, best gain: -inf\n",
            "[LightGBM] [Warning] No further splits with positive gain, best gain: -inf\n",
            "[LightGBM] [Warning] No further splits with positive gain, best gain: -inf\n",
            "[LightGBM] [Warning] No further splits with positive gain, best gain: -inf\n",
            "[LightGBM] [Warning] No further splits with positive gain, best gain: -inf\n",
            "[LightGBM] [Warning] No further splits with positive gain, best gain: -inf\n",
            "[LightGBM] [Warning] No further splits with positive gain, best gain: -inf\n",
            "[LightGBM] [Warning] No further splits with positive gain, best gain: -inf\n",
            "[LightGBM] [Warning] No further splits with positive gain, best gain: -inf\n",
            "[LightGBM] [Warning] No further splits with positive gain, best gain: -inf\n",
            "[LightGBM] [Warning] No further splits with positive gain, best gain: -inf\n",
            "[LightGBM] [Warning] No further splits with positive gain, best gain: -inf\n",
            "[LightGBM] [Warning] No further splits with positive gain, best gain: -inf\n",
            "[LightGBM] [Warning] No further splits with positive gain, best gain: -inf\n",
            "[LightGBM] [Warning] No further splits with positive gain, best gain: -inf\n",
            "[LightGBM] [Warning] No further splits with positive gain, best gain: -inf\n",
            "[LightGBM] [Warning] No further splits with positive gain, best gain: -inf\n",
            "[LightGBM] [Warning] No further splits with positive gain, best gain: -inf\n",
            "[LightGBM] [Warning] No further splits with positive gain, best gain: -inf\n",
            "[LightGBM] [Warning] No further splits with positive gain, best gain: -inf\n",
            "[LightGBM] [Warning] No further splits with positive gain, best gain: -inf\n",
            "[LightGBM] [Warning] No further splits with positive gain, best gain: -inf\n",
            "[LightGBM] [Warning] No further splits with positive gain, best gain: -inf\n",
            "[LightGBM] [Warning] No further splits with positive gain, best gain: -inf\n",
            "[LightGBM] [Warning] No further splits with positive gain, best gain: -inf\n",
            "[LightGBM] [Warning] No further splits with positive gain, best gain: -inf\n",
            "[LightGBM] [Warning] No further splits with positive gain, best gain: -inf\n",
            "[LightGBM] [Warning] No further splits with positive gain, best gain: -inf\n",
            "[LightGBM] [Warning] No further splits with positive gain, best gain: -inf\n",
            "[LightGBM] [Warning] No further splits with positive gain, best gain: -inf\n",
            "[LightGBM] [Warning] No further splits with positive gain, best gain: -inf\n",
            "[LightGBM] [Warning] No further splits with positive gain, best gain: -inf\n",
            "[LightGBM] [Warning] No further splits with positive gain, best gain: -inf\n",
            "[LightGBM] [Warning] No further splits with positive gain, best gain: -inf\n",
            "[LightGBM] [Warning] No further splits with positive gain, best gain: -inf\n",
            "[LightGBM] [Warning] No further splits with positive gain, best gain: -inf\n",
            "[LightGBM] [Warning] No further splits with positive gain, best gain: -inf\n",
            "[LightGBM] [Warning] No further splits with positive gain, best gain: -inf\n",
            "[LightGBM] [Warning] No further splits with positive gain, best gain: -inf\n",
            "[LightGBM] [Warning] No further splits with positive gain, best gain: -inf\n",
            "[LightGBM] [Warning] No further splits with positive gain, best gain: -inf\n",
            "[LightGBM] [Warning] No further splits with positive gain, best gain: -inf\n"
          ]
        }
      ],
      "source": [
        "# Models tried: Logistic Regression (~0.22),\n",
        "\n",
        "from sklearn.preprocessing import StandardScaler\n",
        "\n",
        "# Initialize logistic regression model\n",
        "logistic_model = LogisticRegression()\n",
        "\n",
        "# Initialize Gradient Boosting Machine (GBM)\n",
        "gbm_model = GradientBoostingClassifier()\n",
        "\n",
        "# Initialize AdaBoost\n",
        "adaboost_model = AdaBoostClassifier()\n",
        "\n",
        "# Initialize RandomForest\n",
        "random_forest_model = RandomForestClassifier()\n",
        "\n",
        "# Initialize LightGBM\n",
        "lightgbm_model = lgb.LGBMClassifier()\n",
        "\n",
        "all_columns = ['Similarity_Score_Title_Index', 'Similarity_Score_Body_Index',\n",
        "       'Similarity_Score_Title_Entity', 'Similarity_Score_Body_Entity',\n",
        "       'PageRank', 'PageViews', 'Query Length', 'Is a Question',\n",
        "       'Contains Quotes', 'Contains Entity', 'sum_similarity']\n",
        "\n",
        "# Define selected features\n",
        "selected_features = ['Similarity_Score_Title_Index', 'Similarity_Score_Body_Index','Query Length',\n",
        "                     'Similarity_Score_Body_Entity', 'Similarity_Score_Title_Entity', 'PageRank', 'PageViews']\n",
        "\n",
        "# selected_features = all_columns\n",
        "# Fit the model\n",
        "scaler = StandardScaler()\n",
        "X_train_scaled = scaler.fit_transform(X_train[selected_features])\n",
        "logistic_model.fit(X_train_scaled, y_train)\n",
        "\n",
        "# Fit the model\n",
        "scaler = StandardScaler()\n",
        "X_train_scaled = scaler.fit_transform(X_train[selected_features])\n",
        "adaboost_model.fit(X_train_scaled, y_train)\n",
        "\n",
        "# Fit the model\n",
        "scaler = StandardScaler()\n",
        "X_train_scaled = scaler.fit_transform(X_train[selected_features])\n",
        "lightgbm_model.fit(X_train_scaled, y_train)\n",
        "\n",
        "# Predict probabilities for test set\n",
        "X_test_scaled = scaler.transform(X_test[selected_features])\n",
        "y_test_proba = lightgbm_model.predict_proba(X_test_scaled)\n",
        "test_ds['Prediction'] = y_test_proba[:, 1]"
      ]
    },
    {
      "cell_type": "code",
      "execution_count": null,
      "metadata": {
        "id": "9YjGFJDgpEWd"
      },
      "outputs": [],
      "source": [
        "def PredMethod(test_ds, adaboost_model, lightgbm_model, scaler, selected_features):\n",
        "    # Scale the test features\n",
        "    X_test_scaled = scaler.transform(test_ds[selected_features])\n",
        "\n",
        "    # Predict probabilities for each sample using AdaBoost and LightGBM models\n",
        "    test_ds['Prediction_ADA'] = adaboost_model.predict_proba(X_test_scaled)[:, 1]\n",
        "    test_ds['Prediction_LGBM'] = lightgbm_model.predict_proba(X_test_scaled)[:, 1]\n",
        "\n",
        "    # Sort the DataFrame based on the predictions from LightGBM in descending order\n",
        "    sorted_ds = test_ds.sort_values(by='Prediction_LGBM', ascending=False)\n",
        "\n",
        "    # Select the top row (best prediction) from LightGBM\n",
        "    best_lgbm = sorted_ds.iloc[[0]]\n",
        "\n",
        "    # Select the best predictions from the 'Body' column\n",
        "    best_body = sorted_ds.sort_values(by='Similarity_Score_Body_Index', ascending=False).iloc[[0]]\n",
        "\n",
        "    # Select the top two predictions from AdaBoost\n",
        "    best_ada = sorted_ds.sort_values(by='Prediction_ADA', ascending=False).iloc[:2]\n",
        "\n",
        "    # Select the top three predictions from the 'Title' column\n",
        "    best_title = sorted_ds.sort_values(by='Similarity_Score_Title_Index', ascending=False).iloc[:3]\n",
        "\n",
        "    # Combine all selected rows\n",
        "    selected_rows = pd.concat([best_lgbm, best_body, best_ada, best_title])\n",
        "\n",
        "    # Sort the remaining rows by the 'Body' column\n",
        "    remaining_rows = sorted_ds[~sorted_ds.index.isin(selected_rows.index)].sort_values(by='Similarity_Score_Body_Index', ascending=False)\n",
        "\n",
        "    # Concatenate selected rows and remaining rows\n",
        "    final_ds = pd.concat([selected_rows, remaining_rows])\n",
        "\n",
        "    # Drop duplicates and keep the first occurrence\n",
        "    final_ds.drop_duplicates(inplace=True)\n",
        "\n",
        "    return final_ds"
      ]
    },
    {
      "cell_type": "code",
      "execution_count": null,
      "metadata": {
        "colab": {
          "base_uri": "https://localhost:8080/"
        },
        "id": "NWJXwUOSszeG",
        "outputId": "89564361-ebef-40ad-9f21-7a2b13c12342"
      },
      "outputs": [
        {
          "name": "stdout",
          "output_type": "stream",
          "text": [
            "==========================================================================================\n",
            "\n",
            "Precision@5: 0.4 \n",
            "\n",
            "\n",
            "F1@30: 0.33333333333333337 \n",
            "\n",
            "==========================================================================================\n"
          ]
        }
      ],
      "source": [
        "test_sorted = PredMethod(test_ds, adaboost_model, lightgbm_model, scaler, selected_features)\n",
        "test_sorted\n",
        "\n",
        "y_true = test_sorted['Relevant']\n",
        "y_pred = test_sorted['Prediction']\n",
        "threshold = 0  # basically supposed to mark as 'True' all in the column, and check the top of the column\n",
        "y_pred_binary = (y_pred > threshold).astype(int)\n",
        "\n",
        "# Now you can compute precision using the binary predictions\n",
        "precision_5 = precision_score(y_true[:5], y_pred_binary[:5], zero_division='warn')\n",
        "f1_30 = f1_score(y_true[:30], y_pred_binary[:30], zero_division='warn')\n",
        "\n",
        "# Print the best sorting options and their scores\n",
        "print(\"==========================================================================================\")\n",
        "print(\"\\nPrecision@5:\", precision_5,'\\n')\n",
        "print(\"\\nF1@30:\", f1_30,'\\n')\n",
        "print(\"==========================================================================================\")"
      ]
    },
    {
      "cell_type": "code",
      "execution_count": null,
      "metadata": {
        "colab": {
          "base_uri": "https://localhost:8080/"
        },
        "id": "Mp3wGSXYDYNz",
        "outputId": "06c053e9-4d91-4065-8323-c7e76f9ebe85"
      },
      "outputs": [
        {
          "data": {
            "text/plain": [
              "[0, 8]"
            ]
          },
          "execution_count": 117,
          "metadata": {},
          "output_type": "execute_result"
        }
      ],
      "source": [
        "sorted_relevant_test_ds = test_ds.sort_values(by='Prediction', ascending=False)[:100]\n",
        "sorted_relevant_test_ds.reset_index(drop=True, inplace=True)\n",
        "\n",
        "relevant_test_ds = sorted_relevant_test_ds[sorted_relevant_test_ds['Relevant'] == True]\n",
        "\n",
        "# Extract the indexes of the relevant samples within the first 100 rows\n",
        "indexes_of_relevant_samples = relevant_test_ds.index.tolist()\n",
        "indexes_of_relevant_samples"
      ]
    },
    {
      "cell_type": "code",
      "execution_count": null,
      "metadata": {
        "id": "liNTiH5xm_hK"
      },
      "outputs": [],
      "source": [
        "# Sorting methods:\n",
        "# Based on 'Similarity_Score_Title_Index': [2, 26]\n",
        "# Based on 'Similarity_Score_Body_Index': [0, 5, 9, 15, 47]\n",
        "# Based on 'Prediction - Logistic Regression': [16, 34, 35]\n",
        "# Based on 'Prediction - Ada Boost - feature selection': [1]\n",
        "# Based on 'Prediction - Ada Boost': [4]\n",
        "# Based on 'Prediction - LightGBM - feature selection': [0, 8]\n",
        "# Based on 'Prediction - LightGBM': [29, 30]"
      ]
    },
    {
      "cell_type": "markdown",
      "metadata": {
        "id": "amjZgG0UEEWG"
      },
      "source": [
        "### Model Assessment"
      ]
    },
    {
      "cell_type": "code",
      "execution_count": null,
      "metadata": {
        "colab": {
          "base_uri": "https://localhost:8080/"
        },
        "id": "eXHkiCOfEGYg",
        "outputId": "131db779-05c7-4fe9-9059-2d38decbff4a"
      },
      "outputs": [
        {
          "name": "stdout",
          "output_type": "stream",
          "text": [
            "==========================================================================================\n",
            "\n",
            "Best sorting order for precision@5: ['Similarity_Score_Title_Index'] with precision@5: 0.2 \n",
            "\n",
            "\n",
            "Best sorting order for F1@30: ['Similarity_Score_Body_Index'] with F1@30: 0.23529411764705882 \n",
            "\n",
            "==========================================================================================\n"
          ]
        }
      ],
      "source": [
        "from sklearn.metrics import precision_score, f1_score\n",
        "\n",
        "# Define sorting orders to test\n",
        "sorting_orders = [\n",
        "    ['Similarity_Score_Title_Index'],\n",
        "    ['Similarity_Score_Body_Index'],\n",
        "    ['Prediction'],\n",
        "    ['Similarity_Score_Title_Index', 'Similarity_Score_Body_Index'],\n",
        "    ['Similarity_Score_Body_Index', 'Similarity_Score_Title_Index'],\n",
        "    ['Similarity_Score_Title_Index', 'Prediction'],\n",
        "    ['Prediction', 'Similarity_Score_Title_Index'],\n",
        "    ['Similarity_Score_Body_Index', 'Prediction'],\n",
        "    ['Prediction', 'Similarity_Score_Body_Index'],\n",
        "    ['Similarity_Score_Title_Index', 'Similarity_Score_Body_Index', 'Prediction'],\n",
        "    ['Similarity_Score_Title_Index', 'Prediction', 'Similarity_Score_Body_Index'],\n",
        "    ['Similarity_Score_Body_Index', 'Similarity_Score_Title_Index', 'Prediction'],\n",
        "    ['Similarity_Score_Body_Index', 'Prediction', 'Similarity_Score_Title_Index'],\n",
        "    ['Prediction', 'Similarity_Score_Title_Index', 'Similarity_Score_Body_Index'],\n",
        "    ['Prediction', 'Similarity_Score_Body_Index', 'Similarity_Score_Title_Index'],\n",
        "]\n",
        "\n",
        "# Define function to calculate precision@5 and F1@30\n",
        "def evaluate_sorting_order(data, sorting_order):\n",
        "    sorted_data = data.sort_values(by=sorting_order, ascending=False)\n",
        "    y_true = sorted_data['Relevant']\n",
        "    y_pred = sorted_data['Prediction']\n",
        "    threshold = 0  # basically supposed to mark as 'True' all in the column, and check the top of the column\n",
        "    y_pred_binary = (y_pred > threshold).astype(int)\n",
        "\n",
        "    # Now you can compute precision using the binary predictions\n",
        "    precision_5 = precision_score(y_true[:5], y_pred_binary[:5], zero_division='warn')\n",
        "    f1_30 = f1_score(y_true[:30], y_pred_binary[:30], zero_division='warn')\n",
        "    return precision_5, f1_30\n",
        "\n",
        "# Calculate precision@5 and F1@30 for each sorting order\n",
        "best_precision_5 = 0\n",
        "best_f1_30 = 0\n",
        "best_sorting_order_precision_5 = None\n",
        "best_sorting_order_f1_30 = None\n",
        "\n",
        "for sorting_order in sorting_orders:\n",
        "    precision_5, f1_30 = evaluate_sorting_order(test_ds, sorting_order)\n",
        "    if precision_5 > best_precision_5:\n",
        "        best_precision_5 = precision_5\n",
        "        best_sorting_order_precision_5 = sorting_order\n",
        "    if f1_30 > best_f1_30:\n",
        "        best_f1_30 = f1_30\n",
        "        best_sorting_order_f1_30 = sorting_order\n",
        "\n",
        "# Print the best sorting options and their scores\n",
        "print(\"==========================================================================================\")\n",
        "print(\"\\nBest sorting order for precision@5:\", best_sorting_order_precision_5, \"with precision@5:\", best_precision_5,'\\n')\n",
        "print(\"\\nBest sorting order for F1@30:\", best_sorting_order_f1_30, \"with F1@30:\", best_f1_30,'\\n')\n",
        "print(\"==========================================================================================\")"
      ]
    },
    {
      "cell_type": "markdown",
      "metadata": {
        "id": "iVEksXP9Dj1D"
      },
      "source": [
        "## Time Optimization\n",
        "\n",
        "Can we cut the Body Index posting list by TF to save space and actions?"
      ]
    },
    {
      "cell_type": "code",
      "execution_count": null,
      "metadata": {
        "id": "AdIFfqZMD1IQ"
      },
      "outputs": [],
      "source": [
        "# Let's create a query on the body and look for a connection between tf and BM25 score.\n",
        "# If we can determine a threshold for TF that will most definetly ignore irrelevant docs - we will improve time\n",
        "# Will be tested for single worded queries to see the connection directly between a tokens tf and the BM25\n",
        "query = 'America'\n",
        "query_tokens = PreprocessQuery(query,False, False)\n",
        "p = RetrieveFromPosting(query_tokens, inverted2, BASE_DIR_B, BUCKET_NAME, {}, {})\n",
        "d = []\n",
        "docs = {}\n",
        "threaded_search(query_tokens, inverted2, BASE_DIR_B, 'BM25', docs, 'key_suffix')"
      ]
    },
    {
      "cell_type": "code",
      "execution_count": null,
      "metadata": {
        "id": "1tTmxtMxG0nU"
      },
      "outputs": [],
      "source": [
        "keys = [key for key in p.keys()]\n",
        "values = p[keys[0]]\n",
        "doc_tf = {tup[0]:tup[2] for tup in values}"
      ]
    },
    {
      "cell_type": "code",
      "execution_count": null,
      "metadata": {
        "id": "WZD2nASsFDbN"
      },
      "outputs": [],
      "source": [
        "docs_bm = docs['key_suffix']\n",
        "docs_bm\n",
        "\n",
        "points = [(doc_tf[doc], docs_bm[doc][1]) for doc in docs_bm.keys()]"
      ]
    },
    {
      "cell_type": "code",
      "execution_count": null,
      "metadata": {
        "colab": {
          "base_uri": "https://localhost:8080/",
          "height": 410
        },
        "id": "5Um9sjq9Iw1c",
        "outputId": "b4482a5e-a477-45de-d736-37a7db7e5f9c"
      },
      "outputs": [
        {
          "data": {
            "image/png": "[encoded data removed]",
            "text/plain": [
              "<Figure size 600x400 with 1 Axes>"
            ]
          },
          "metadata": {},
          "output_type": "display_data"
        }
      ],
      "source": [
        "import matplotlib.pyplot as plt\n",
        "\n",
        "doc_tf = {tup[0]:tup[2] for tup in values}\n",
        "points = [(doc_tf[doc], docs_bm[doc][1]) for doc in docs_bm.keys()]\n",
        "# Extract tf and BM25 scores into separate lists for plotting\n",
        "tf_scores, bm25_scores = zip(*points)\n",
        "\n",
        "# Plot scatter\n",
        "plt.figure(figsize=(6, 4))\n",
        "plt.scatter(tf_scores, bm25_scores, color='blue', alpha=0.7)\n",
        "plt.title('TF vs BM25 Score')\n",
        "plt.xlabel('TF')\n",
        "plt.ylabel('BM25 Score')\n",
        "plt.grid(True)\n",
        "\n",
        "# Calculate and display correlation\n",
        "correlation = np.corrcoef(tf_scores, bm25_scores)[0, 1]\n",
        "plt.figtext(0.15, 0.85, f\"Correlation: {correlation:.2f}\", fontsize=12, backgroundcolor='white')\n",
        "\n",
        "plt.show()"
      ]
    },
    {
      "cell_type": "code",
      "execution_count": null,
      "metadata": {
        "colab": {
          "base_uri": "https://localhost:8080/",
          "height": 410
        },
        "id": "3w627-VsKrCz",
        "outputId": "294fcc44-8d83-44ee-a977-f22a734aea36"
      },
      "outputs": [
        {
          "data": {
            "image/png": "[encoded data removed]",
            "text/plain": [
              "<Figure size 600x400 with 1 Axes>"
            ]
          },
          "metadata": {},
          "output_type": "display_data"
        }
      ],
      "source": [
        "doc_tf = {tup[0]:(tup[2]/tup[3]) for tup in values}\n",
        "points = [(doc_tf[doc], docs_bm[doc][1]) for doc in docs_bm.keys()]\n",
        "# Extract tf and BM25 scores into separate lists for plotting\n",
        "tf_scores, bm25_scores = zip(*points)\n",
        "\n",
        "# Plot scatter\n",
        "plt.figure(figsize=(6, 4))\n",
        "plt.scatter(tf_scores, bm25_scores, color='blue', alpha=0.7)\n",
        "plt.title('Norm TF vs BM25 Score')\n",
        "plt.xlabel('Norm TF')\n",
        "plt.ylabel('BM25 Score')\n",
        "plt.grid(True)\n",
        "\n",
        "# Calculate and display correlation\n",
        "correlation = np.corrcoef(tf_scores, bm25_scores)[0, 1]\n",
        "plt.figtext(0.15, 0.85, f\"Correlation: {correlation:.2f}\", fontsize=12, backgroundcolor='white')\n",
        "\n",
        "plt.show()"
      ]
    },
    {
      "cell_type": "markdown",
      "metadata": {
        "id": "MguOyxEIkXvj"
      },
      "source": [
        "### Multithreads on Similarity methods - helpful?"
      ]
    },
    {
      "cell_type": "code",
      "execution_count": null,
      "metadata": {
        "colab": {
          "base_uri": "https://localhost:8080/"
        },
        "id": "Y3yxjpHzj7T1",
        "outputId": "d6bbe510-fbe1-4d4c-826e-290df7dbe220"
      },
      "outputs": [
        {
          "name": "stdout",
          "output_type": "stream",
          "text": [
            "Time for BM25_Similarity_N: 1.4043163537979126 seconds\n",
            "Time for BM25_Similarity: 0.3973235289255778 seconds\n"
          ]
        }
      ],
      "source": [
        "import time\n",
        "\n",
        "times_o = []\n",
        "times_n = []\n",
        "\n",
        "for query in queries['Text']:\n",
        "\n",
        "  query_tokens = PreprocessQuery(query, expand=True, synonims=False, expansion_param=2)\n",
        "  fetched_docs = RetrieveFromPosting(query_tokens, inverted2, BASE_DIR_B, BUCKET_NAME, PageRank, PageViews, method='BM25')\n",
        "\n",
        "  # Timing BM25_Similarity\n",
        "  start_time_o = time.time()\n",
        "  docs_o = BM25_Similarity(fetched_docs, inverted2.AVG_doc_length, query_tokens, k1=1.5, b=0.75)\n",
        "  end_time_o = time.time()\n",
        "  times_o.append(end_time_o - start_time_o)\n",
        "\n",
        "  # Timing BM25_Similarity_Parallel\n",
        "  start_time_n = time.time()\n",
        "  docs_n = BM25_Similarity_Parallel(fetched_docs, inverted2.AVG_doc_length, query_tokens, k1=1.5, b=0.75)\n",
        "  end_time_n = time.time()\n",
        "  times_n.append(end_time_n - start_time_n)\n",
        "\n",
        "print(f\"Time for BM25_Similarity_Parallel: {sum(times_n)/len(times_n)} seconds\")\n",
        "print(f\"Time for BM25_Similarity: {sum(times_o)/len(times_o)} seconds\")"
      ]
    },
    {
      "cell_type": "markdown",
      "metadata": {
        "id": "OFQctHcaWhEN"
      },
      "source": [
        "### Analize similarity bottom thresh for true results per index"
      ]
    },
    {
      "cell_type": "code",
      "execution_count": null,
      "metadata": {
        "id": "SeoXTE7wT8fO"
      },
      "outputs": [],
      "source": [
        "# all_true = []\n",
        "\n",
        "# for query in queries_json.keys():\n",
        "#   true_ds = BuildFetchedDataSet_Test(query)\n",
        "#   all_true.append(true_ds[true_ds['Relevant'] == True])\n",
        "\n",
        "# all_true = pd.concat(all_true)\n",
        "# all_true.to_excel('Query_Res_all_True.xlsx')\n",
        "features = ['Similarity_Score_Title_Index',\t'Similarity_Score_Body_Index',\t'PageRank',\t'PageViews']\n",
        "min_max_values = {}\n",
        "\n",
        "for query in queries_json.keys():\n",
        "  true_ds = BuildFetchedDataSet_Test(query)\n",
        "  for feature in features:\n",
        "    min_vals = np.min(true_ds[feature], axis=0)\n",
        "    max_vals = np.max(true_ds[feature], axis=0)\n",
        "    if feature not in min_max_values:\n",
        "      min_max_values[feature] = (min_vals,max_vals)\n",
        "    else:\n",
        "      min_max_values[feature] = (min(min_vals, min_max_values[feature][0]) ,max(max_vals, min_max_values[feature][1]))"
      ]
    },
    {
      "cell_type": "code",
      "execution_count": null,
      "metadata": {
        "colab": {
          "base_uri": "https://localhost:8080/"
        },
        "id": "aT716DITrwAy",
        "outputId": "567b59f7-d3fd-4a4e-ae35-e7c5771301dc"
      },
      "outputs": [
        {
          "data": {
            "text/plain": [
              "{'Similarity_Score_Title_Index': (0, 1.0000000000000002),\n",
              " 'Similarity_Score_Body_Index': (0.2500000344706341, 8.205944171811298),\n",
              " 'PageRank': (0.0, 9.201776686284328),\n",
              " 'PageViews': (0.0, 19.014704766035365)}"
            ]
          },
          "execution_count": 18,
          "metadata": {},
          "output_type": "execute_result"
        }
      ],
      "source": [
        "min_max_values"
      ]
    },
    {
      "cell_type": "code",
      "execution_count": null,
      "metadata": {
        "colab": {
          "base_uri": "https://localhost:8080/"
        },
        "id": "srZsRuDZWpLg",
        "outputId": "0ee1047c-3a5a-4074-92e3-d6b31e8c71fa"
      },
      "outputs": [
        {
          "data": {
            "image/png": "[encoded data removed]",
            "text/plain": [
              "<Figure size 1000x600 with 1 Axes>"
            ]
          },
          "metadata": {},
          "output_type": "display_data"
        },
        {
          "data": {
            "image/png": "[encoded data removed]",
            "text/plain": [
              "<Figure size 1000x600 with 1 Axes>"
            ]
          },
          "metadata": {},
          "output_type": "display_data"
        }
      ],
      "source": [
        "import matplotlib.pyplot as plt\n",
        "\n",
        "# Plot histogram for Similarity_Score_Title_Index\n",
        "plt.figure(figsize=(10, 6))\n",
        "plt.hist(all_true['Similarity_Score_Title_Index'], bins=60, color='blue', alpha=0.7)\n",
        "plt.title('Histogram of Similarity Scores (Title Index)')\n",
        "plt.xlabel('Similarity Score')\n",
        "plt.ylabel('Frequency')\n",
        "plt.grid(True)\n",
        "plt.show()\n",
        "\n",
        "# Plot histogram for Similarity_Score_Body_Index\n",
        "plt.figure(figsize=(10, 6))\n",
        "plt.hist(all_true['Similarity_Score_Body_Index'], bins=60, color='green', alpha=0.7)\n",
        "plt.title('Histogram of Similarity Scores (Body Index)')\n",
        "plt.xlabel('Similarity Score')\n",
        "plt.ylabel('Frequency')\n",
        "plt.grid(True)\n",
        "plt.show()"
      ]
    },
    {
      "cell_type": "code",
      "execution_count": null,
      "metadata": {
        "colab": {
          "base_uri": "https://localhost:8080/"
        },
        "id": "0uRrN36yXlSs",
        "outputId": "13141c74-256c-4fee-8b09-f66fbc2bbe6b"
      },
      "outputs": [
        {
          "name": "stdout",
          "output_type": "stream",
          "text": [
            "Threshold 0.5: Retained 98.39% of data\n",
            "Threshold 0.51: Retained 98.32% of data\n",
            "Threshold 0.52: Retained 98.16% of data\n",
            "Threshold 0.53: Retained 98.09% of data\n",
            "Threshold 0.54: Retained 98.09% of data\n",
            "Threshold 0.55: Retained 97.93% of data\n",
            "Threshold 0.56: Retained 97.63% of data\n",
            "Threshold 0.5700000000000001: Retained 97.48% of data\n",
            "Threshold 0.5800000000000001: Retained 97.40% of data\n",
            "Threshold 0.5900000000000001: Retained 97.32% of data\n",
            "Threshold 0.6000000000000001: Retained 97.25% of data\n",
            "Threshold 0.6100000000000001: Retained 97.02% of data\n",
            "Threshold 0.6200000000000001: Retained 96.86% of data\n",
            "Threshold 0.6300000000000001: Retained 96.71% of data\n",
            "Threshold 0.6400000000000001: Retained 96.71% of data\n",
            "Threshold 0.6500000000000001: Retained 96.71% of data\n",
            "Threshold 0.6600000000000001: Retained 96.48% of data\n",
            "Threshold 0.6700000000000002: Retained 96.17% of data\n",
            "Threshold 0.6800000000000002: Retained 95.94% of data\n",
            "Threshold 0.6900000000000002: Retained 95.79% of data\n",
            "Threshold 0.7000000000000002: Retained 95.79% of data\n",
            "Threshold 0.7100000000000002: Retained 95.56% of data\n",
            "Threshold 0.7200000000000002: Retained 95.33% of data\n",
            "Threshold 0.7300000000000002: Retained 95.03% of data\n",
            "Threshold 0.7400000000000002: Retained 94.72% of data\n",
            "Threshold 0.7500000000000002: Retained 94.72% of data\n",
            "Threshold 0.7600000000000002: Retained 94.19% of data\n",
            "Threshold 0.7700000000000002: Retained 93.57% of data\n",
            "Threshold 0.7800000000000002: Retained 93.42% of data\n",
            "Threshold 0.7900000000000003: Retained 93.19% of data\n",
            "Threshold 0.8000000000000003: Retained 92.96% of data\n",
            "Threshold 0.8100000000000003: Retained 92.88% of data\n",
            "Threshold 0.8200000000000003: Retained 92.50% of data\n",
            "Threshold 0.8300000000000003: Retained 92.27% of data\n",
            "Threshold 0.8400000000000003: Retained 92.04% of data\n",
            "Threshold 0.8500000000000003: Retained 91.89% of data\n",
            "Threshold 0.8600000000000003: Retained 91.66% of data\n",
            "Threshold 0.8700000000000003: Retained 91.35% of data\n",
            "Threshold 0.8800000000000003: Retained 91.20% of data\n",
            "Threshold 0.8900000000000003: Retained 91.05% of data\n",
            "Threshold 0.9000000000000004: Retained 90.74% of data\n",
            "Threshold 0.9100000000000004: Retained 90.21% of data\n",
            "Threshold 0.9200000000000004: Retained 89.90% of data\n",
            "Threshold 0.9300000000000004: Retained 89.59% of data\n",
            "Threshold 0.9400000000000004: Retained 89.14% of data\n",
            "Threshold 0.9500000000000004: Retained 88.98% of data\n",
            "Threshold 0.9600000000000004: Retained 88.91% of data\n",
            "Threshold 0.9700000000000004: Retained 88.68% of data\n",
            "Threshold 0.9800000000000004: Retained 88.60% of data\n",
            "Threshold 0.9900000000000004: Retained 88.52% of data\n"
          ]
        },
        {
          "data": {
            "image/png": "[encoded data removed]",
            "text/plain": [
              "<Figure size 1000x600 with 1 Axes>"
            ]
          },
          "metadata": {},
          "output_type": "display_data"
        }
      ],
      "source": [
        "\n",
        "# Example dataset (replace with your actual data)\n",
        "similarity_scores = all_true['Similarity_Score_Body_Index']\n",
        "non_zero_scores_mask = similarity_scores != 0\n",
        "similarity_scores = similarity_scores[non_zero_scores_mask]\n",
        "\n",
        "# Total number of data points\n",
        "total_data_points = len(similarity_scores)\n",
        "\n",
        "# Define thresholds to try\n",
        "thresholds = np.arange(0.5, 1, 0.01)  # Adjust as needed\n",
        "\n",
        "# Calculate percentage of data points retained for each threshold\n",
        "percentages_retained = []\n",
        "for threshold in thresholds:\n",
        "    num_retained = np.sum(similarity_scores >= threshold)\n",
        "    percentage_retained = (num_retained / total_data_points) * 100\n",
        "    percentages_retained.append(percentage_retained)\n",
        "    print(f\"Threshold {threshold}: Retained {percentage_retained:.2f}% of data\")\n",
        "\n",
        "# Plot the results\n",
        "plt.figure(figsize=(10, 6))\n",
        "plt.plot(thresholds, percentages_retained, marker='o')\n",
        "plt.title('Percentage of Data Retained vs. Threshold')\n",
        "plt.xlabel('Threshold')\n",
        "plt.ylabel('Percentage of Data Retained')\n",
        "plt.grid(True)\n",
        "plt.show()"
      ]
    }
  ],
  "metadata": {
    "colab": {
      "collapsed_sections": [
        "CFBNOTob4pNv",
        "OFQctHcaWhEN"
      ],
      "provenance": []
    },
    "kernelspec": {
      "display_name": "Python 3",
      "language": "python",
      "name": "python3"
    },
    "language_info": {
      "codemirror_mode": {
        "name": "ipython",
        "version": 3
      },
      "file_extension": ".py",
      "mimetype": "text/x-python",
      "name": "python",
      "nbconvert_exporter": "python",
      "pygments_lexer": "ipython3",
      "version": "3.7.6"
    }
  },
  "nbformat": 4,
  "nbformat_minor": 0
}